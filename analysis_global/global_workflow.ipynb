{
  "cells": [
    {
      "cell_type": "markdown",
      "metadata": {
        "id": "view-in-github",
        "colab_type": "text"
      },
      "source": [
        "<a href=\"https://colab.research.google.com/github/andrewhywong/SDM-GeoAttribution/blob/main/analysis_global/global_workflow.ipynb\" target=\"_parent\"><img src=\"https://colab.research.google.com/assets/colab-badge.svg\" alt=\"Open In Colab\"/></a>"
      ]
    },
    {
      "cell_type": "markdown",
      "metadata": {
        "id": "NHfdCWqMxMXx"
      },
      "source": [
        "## Initialize Earth Engine"
      ]
    },
    {
      "cell_type": "code",
      "execution_count": null,
      "metadata": {
        "colab": {
          "base_uri": "https://localhost:8080/"
        },
        "id": "KqbGpwq3RlyJ",
        "outputId": "ebc88192-7b4e-4ede-ccda-ad665414d2ef"
      },
      "outputs": [
        {
          "output_type": "stream",
          "name": "stdout",
          "text": [
            "To authorize access needed by Earth Engine, open the following URL in a web browser and follow the instructions. If the web browser does not start automatically, please manually browse the URL below.\n",
            "\n",
            "    https://code.earthengine.google.com/client-auth?scopes=https%3A//www.googleapis.com/auth/earthengine%20https%3A//www.googleapis.com/auth/devstorage.full_control&request_id=OeoeasauUaoAIkReAU7-BQxCDCx9XXbbygxUDlEEqVU&tc=ptkEA4OI5SXM5DgKzupOo4Ky2zI-qvGrmFEOPipt0mM&cc=jjYqkwN-FAjW4O-YsmAz3wXcIgWnwbtq6KUV2COt7RA\n",
            "\n",
            "The authorization workflow will generate a code, which you should paste in the box below.\n",
            "Enter verification code: 4/1AWtgzh4ECQTnfLgxZcy3eQiCwggWzeGYeaKWEkvBUHaU1keXR4uO-5vBp9A\n",
            "\n",
            "Successfully saved authorization token.\n"
          ]
        }
      ],
      "source": [
        "import time\n",
        "import ee\n",
        "import folium\n",
        "\n",
        "ee.Authenticate()\n",
        "ee.Initialize()"
      ]
    },
    {
      "cell_type": "markdown",
      "metadata": {
        "id": "7VOY3Epyw_Tx"
      },
      "source": [
        "## Define functions for modeling"
      ]
    },
    {
      "cell_type": "code",
      "execution_count": null,
      "metadata": {
        "id": "EOrRl3rLslRg"
      },
      "outputs": [],
      "source": [
        "# check asset list and make sure it is updated\n",
        "def get_asset_list(parent):\n",
        "    parent_asset = ee.data.getAsset(parent)\n",
        "    parent_id = parent_asset['name']\n",
        "    parent_type = parent_asset['type']\n",
        "    asset_list = []\n",
        "    child_assets = ee.data.listAssets({'parent': parent_id})['assets']\n",
        "    for child_asset in child_assets:\n",
        "        child_id = child_asset['name']\n",
        "        child_type = child_asset['type']\n",
        "        if child_type in ['FOLDER','IMAGE_COLLECTION']:\n",
        "            asset_list.extend(get_asset_list(child_id))\n",
        "        else:\n",
        "            asset_list.append(child_id)\n",
        "    return asset_list\n",
        "\n",
        "# remove duplicated occurrences in the same pixel\n",
        "def RemoveDuplicates(data):\n",
        "  randomraster = ee.Image.random().reproject('EPSG:4326', None, GrainSize)\n",
        "  randpointvals = randomraster.sampleRegions(collection=ee.FeatureCollection(data), scale=10,geometries=True)\n",
        "  return randpointvals.distinct('random')\n",
        "\n",
        "# set precenses and absences\n",
        "def setPresence(feature):\n",
        "    return feature.set('PresAbs', 1)\n",
        "def setAbsence(feature):\n",
        "    return feature.set('PresAbs', 0)\n",
        "\n",
        "# Create grids for spatial block CV \n",
        "def makeGrid(geometry, scale):\n",
        "  lonLat = ee.Image.pixelLonLat();\n",
        "  lonGrid = lonLat.select('longitude').multiply(100000).toInt();\n",
        "  latGrid = lonLat.select('latitude').multiply(100000).toInt();\n",
        "  return lonGrid.multiply(latGrid).reduceToVectors(\n",
        "      geometry=geometry,\n",
        "      scale=scale,\n",
        "      geometryType='polygon',\n",
        "    );\n",
        "\n",
        "# fit SDM models\n",
        "def SDM(x):\n",
        "    Seed = ee.Number(x);\n",
        "    # Randomly split blocks for training and validation\n",
        "    GRID = ee.FeatureCollection(Grid).randomColumn(seed=Seed).sort('random');\n",
        "    TrainingGrid = GRID.filter(ee.Filter.lt('random', split));  \n",
        "    TestingGrid = GRID.filter(ee.Filter.gte('random', split)); \n",
        "\n",
        "    # Presences\n",
        "    PresencePoints = ee.FeatureCollection(Data);\n",
        "    PresencePoints = PresencePoints.map(setPresence);\n",
        "    TrPresencePoints = PresencePoints.filter(ee.Filter.bounds(TrainingGrid));  \n",
        "    TePresencePoints = PresencePoints.filter(ee.Filter.bounds(TestingGrid));  \n",
        "    \n",
        "    # Pseudo-absences\n",
        "    if pseudoAbs_mode == 'background':\n",
        "      TrPseudoAbsPoints = AreaForPA.sample(region=TrainingGrid, scale=GrainSize, numPixels=50000, seed=Seed, geometries=True);\n",
        "      TrPseudoAbsPoints = TrPseudoAbsPoints.map(setAbsence);\n",
        "      TePseudoAbsPoints = AreaForPA.sample(region=TestingGrid, scale=GrainSize, numPixels=10000, seed=Seed, geometries=True); \n",
        "      TePseudoAbsPoints = TePseudoAbsPoints.map(setAbsence);\n",
        "\n",
        "    elif pseudoAbs_mode == 'pseudoAbs_k_means':\n",
        "      TrPseudoAbsPoints = AreaForPA.sample(region=TrainingGrid, scale=GrainSize, numPixels=TrPresencePoints.size().add(500), seed=Seed, geometries=True); # THIS SHOULD NOT IMPACT COMPUTATION TIMED OUT\n",
        "      TrPseudoAbsPoints = TrPseudoAbsPoints.randomColumn().sort('random').limit(ee.Number(TrPresencePoints.size())); \n",
        "      TrPseudoAbsPoints = TrPseudoAbsPoints.map(setAbsence);\n",
        "      \n",
        "      TePseudoAbsPoints = AreaForPA.sample(region=TestingGrid, scale=GrainSize, numPixels=TePresencePoints.size().add(500), seed=Seed, geometries=True); \n",
        "      TePseudoAbsPoints = TePseudoAbsPoints.randomColumn().sort('random').limit(ee.Number(TePresencePoints.size())); \n",
        "      TePseudoAbsPoints = TePseudoAbsPoints.map(setAbsence);\n",
        "    else:\n",
        "      print(\"need to specify pseudo absence method!\")\n",
        "\n",
        "    trainingPartition = TrPresencePoints.merge(TrPseudoAbsPoints);\n",
        "    testingPartition = TePresencePoints.merge(TePseudoAbsPoints);\n",
        "\n",
        "    trainPixelVals = predictors.sampleRegions(collection=trainingPartition, properties=['PresAbs'], scale= GrainSize, tileScale= 16, geometries= True);\n",
        "\n",
        "    if classifier_type == \"Random_Forest\":\n",
        "      Classifier = ee.Classifier.smileRandomForest(\n",
        "        numberOfTrees=500, #The number of decision trees to create.\n",
        "        variablesPerSplit=None, #The number of variables per split. If unspecified, uses the square root of the number of variables.\n",
        "        minLeafPopulation=10, #Only create nodes whose training set contains at least this many points. Integer, default: 1\n",
        "        bagFraction=0.5, #The fraction of input to bag per tree. Default: 0.5.\n",
        "        maxNodes=None, #The maximum number of leaf nodes in each tree. If unspecified, defaults to no limit.\n",
        "        seed=Seed #The randomization seed.\n",
        "        );\n",
        "    elif classifier_type == \"Gradient_Tree_Boost\":\n",
        "      Classifier = ee.Classifier.smileGradientTreeBoost(\n",
        "        numberOfTrees=50, #The number of decision trees to create.\n",
        "        shrinkage=0.001, #The shrinkage parameter in (0, 1) controls the learning rate of procedure. Default: 0.005\n",
        "        samplingRate=0.75, #The sampling rate for stochastic tree boosting. Default 0.07\n",
        "        maxNodes=None, #The maximum number of leaf nodes in each tree. If unspecified, defaults to no limit.\n",
        "        loss=\"LeastAbsoluteDeviation\", #Loss function for regression. One of: LeastSquares, LeastAbsoluteDeviation, Huber.\n",
        "        seed=Seed #The randomization seed.\n",
        "      );\n",
        "    elif classifier_type == \"MaxEnt\":\n",
        "      Classifier = ee.Classifier.amnhMaxent(\n",
        "        autoFeature=True, #//Automatically select which feature classes to use, based on number of training samples.\n",
        "        addSamplesToBackground=True, #//Add to the background any sample for which has a combination of environmental values that isn't already present in the background.\n",
        "        extrapolate=True, #//Predict to regions of environmental space outside the limits encountered during training.\n",
        "        seed=Seed #//The randomization seed.\n",
        "      );\n",
        "    else:\n",
        "      print(\"No classifier_type specified!\")\n",
        "    \n",
        "    # Get presence suitability\n",
        "    ClassifierPr = Classifier.setOutputMode('PROBABILITY').train(trainPixelVals, 'PresAbs', bands); \n",
        "    ClassifiedImgPr = predictors.select(bands).classify(ClassifierPr);\n",
        "    \n",
        "    # # Binary presence/absence map\n",
        "    # ClassifierBin = Classifier.setOutputMode('CLASSIFICATION').train(trainPixelVals, 'PresAbs', bands); \n",
        "    # ClassifiedImgBin = predictors.select(bands).classify(ClassifierBin);\n",
        "   \n",
        "    # return ee.List([ClassifiedImgPr, ClassifiedImgBin, trainingPartition, testingPartition]);\n",
        "    return ee.List([ClassifiedImgPr, ClassifiedImgPr, trainingPartition, testingPartition]); # for maxent ClassifiedImgBin\n",
        "\n",
        "# get result values\n",
        "def getResults(x):\n",
        "  return results.get(x)\n",
        "\n"
      ]
    },
    {
      "cell_type": "markdown",
      "metadata": {
        "id": "ffetpFDvyztu"
      },
      "source": [
        "## Define functions for accuracy assessments"
      ]
    },
    {
      "cell_type": "code",
      "execution_count": null,
      "metadata": {
        "id": "9-jDFildy5id"
      },
      "outputs": [],
      "source": [
        "# accuracy assessment at different thresholds\n",
        "def getAcc(img,TP):\n",
        "  Pr_Prob_Vals = img.sampleRegions(collection=TP, properties=['PresAbs'], scale=GrainSize, tileScale= 16);\n",
        "  seq = ee.List.sequence(start=0, end=1, count=25);\n",
        "  def cut_(cutoff):\n",
        "    Pres = Pr_Prob_Vals.filterMetadata('PresAbs','equals',1); #.filter(ee.filter.eq('PresAbs',1))\n",
        "    # true-positive and true-positive rate, sensitivity  \n",
        "    TP =  ee.Number(Pres.filterMetadata('classification','greater_than',cutoff).size());\n",
        "    TPR = TP.divide(Pres.size());\n",
        "    Abs = Pr_Prob_Vals.filterMetadata('PresAbs','equals',0);\n",
        "    # false-negative\n",
        "    FN = ee.Number(Pres.filterMetadata('classification','less_than',cutoff).size());\n",
        "    # true-negative and true-negative rate, specificity  \n",
        "    TN = ee.Number(Abs.filterMetadata('classification','less_than',cutoff).size());\n",
        "    TNR = TN.divide(Abs.size());\n",
        "    # false-positive and false-positive rate\n",
        "    FP = ee.Number(Abs.filterMetadata('classification','greater_than',cutoff).size());\n",
        "    FPR = FP.divide(Abs.size());\n",
        "    # precision\n",
        "    Precision = TP.divide(TP.add(FP));\n",
        "    # sum of sensitivity and specificity\n",
        "    SUMSS = TPR.add(TNR);\n",
        "    return ee.Feature(None,{'cutoff': cutoff, 'TP':TP, 'TN':TN, 'FP':FP, 'FN':FN, 'TPR':TPR, 'TNR':TNR, 'FPR':FPR, 'Precision':Precision, 'SUMSS':SUMSS});\n",
        "\n",
        "  return ee.FeatureCollection(seq.map(cut_));\n",
        "\n",
        "# Calculate AUC_ROC\n",
        "def getAUCROC(x):\n",
        "  X = ee.Array(x.aggregate_array('FPR'));\n",
        "  Y = ee.Array(x.aggregate_array('TPR')); \n",
        "  X1 = X.slice(0,1).subtract(X.slice(0,0,-1));\n",
        "  Y1 = Y.slice(0,1).add(Y.slice(0,0,-1));\n",
        "  return X1.multiply(Y1).multiply(0.5).reduce('sum',[0]).abs().toList().get(0);\n",
        "\n",
        "def AUCROCaccuracy(x):\n",
        "  HSM = ee.Image(images.get(x));\n",
        "  TData = ee.FeatureCollection(TestingDatasets.get(x));\n",
        "  Acc = getAcc(HSM, TData);\n",
        "  return getAUCROC(Acc);\n",
        "\n",
        "# Calculate AUC_PRG\n",
        "def getAUCPR(roc):\n",
        "  X = ee.Array(roc.aggregate_array('TPR'));\n",
        "  Y = ee.Array(roc.aggregate_array('Precision')); \n",
        "  X1 = X.slice(0,1).subtract(X.slice(0,0,-1));\n",
        "  Y1 = Y.slice(0,1).add(Y.slice(0,0,-1));\n",
        "  return X1.multiply(Y1).multiply(0.5).reduce('sum',[0]).abs().toList().get(0);\n",
        "\n",
        "def AUCPRaccuracy(x):\n",
        "  HSM = ee.Image(images.get(x));\n",
        "  TData = ee.FeatureCollection(TestingDatasets.get(x));\n",
        "  Acc = getAcc(HSM, TData);\n",
        "  return getAUCPR(Acc);"
      ]
    },
    {
      "cell_type": "markdown",
      "source": [
        "## Use 'folium' to visualize GEE maps"
      ],
      "metadata": {
        "id": "cuAnRMpqSGRE"
      }
    },
    {
      "cell_type": "code",
      "source": [
        "def Mapdisplay(center, dicc, Tiles=\"OpensTreetMap\",zoom_start=10):\n",
        "    mapViz = folium.Map(location=center,tiles=Tiles, zoom_start=zoom_start)\n",
        "    for k,v in dicc.items():\n",
        "      if ee.image.Image in [type(x) for x in v.values()]:\n",
        "        folium.TileLayer(\n",
        "            tiles = v[\"tile_fetcher\"].url_format,\n",
        "            attr  = 'Google Earth Engine',\n",
        "            overlay =True,\n",
        "            name  = k\n",
        "          ).add_to(mapViz)\n",
        "      else:\n",
        "        folium.GeoJson(\n",
        "        data = v,\n",
        "        name = k\n",
        "          ).add_to(mapViz)\n",
        "    mapViz.add_child(folium.LayerControl())\n",
        "    return mapViz"
      ],
      "metadata": {
        "id": "wb7RzzJURv7T"
      },
      "execution_count": null,
      "outputs": []
    },
    {
      "cell_type": "markdown",
      "metadata": {
        "id": "4AOIDz6txF6f"
      },
      "source": [
        "## Model parameters and input"
      ]
    },
    {
      "cell_type": "code",
      "execution_count": null,
      "metadata": {
        "colab": {
          "base_uri": "https://localhost:8080/"
        },
        "id": "aF1hF3di7GnJ",
        "outputId": "7ecd2e39-10f6-494c-bf0a-fec691f16925"
      },
      "outputs": [
        {
          "output_type": "stream",
          "name": "stdout",
          "text": [
            "Total No. of assets in pool: 604\n"
          ]
        }
      ],
      "source": [
        "all_assets = get_asset_list(\"users/hywong\")\n",
        "print('Total No. of assets in pool: {}'.format(len(all_assets)))"
      ]
    },
    {
      "cell_type": "code",
      "execution_count": null,
      "metadata": {
        "id": "_XKXtgkaprrB"
      },
      "outputs": [],
      "source": [
        "## Model parameters \n",
        "target_case = 'occ_gcloud/' # gee asset folder name\n",
        "outputFolder = 'checkEqual_R_GEE_brt_sub'\n",
        "\n",
        "# set seed\n",
        "Seed=78731\n",
        "\n",
        "# Define partition for training and testing data\n",
        "split = 0.80\n",
        "\n",
        "# Define number of repetitions\n",
        "numiter = 10\n",
        "\n",
        "# pixel-size and scale for cross validation in grid\n",
        "occ_limit= 4899\n",
        "GrainSize = 900\n",
        "Scale = 500000\n",
        "\n",
        "# # subcontinental study area:\n",
        "# subcont = ee.Geometry.BBox(-125,  25,-90, 43);\n",
        "\n",
        "# global study area:\n",
        "# some predictor variables are not covering all earth e.g. SRTM due to satellite instrument \n",
        "\n",
        "# global_aoi = ee.Geometry.BBox(-179.99999, -60, 179.99999, 60); # global area\n",
        "SUB_AOI = ee.Geometry.BBox(-125, 25, -90, 43); # subcontinental area\n",
        "# SUB_AOI = ee.Geometry.BBox(-125, 24, -65, 50); # conterminous USA\n",
        "# SUB_AOI = ee.Geometry.BBox(72, 18, 136, 58); # China\n",
        "\n",
        "AOI = SUB_AOI;\n",
        "\n",
        "# iterate assets and grab the name of FeatureCollection:\n",
        "target_asset = 'projects/earthengine-legacy/assets/users/hywong/'+target_case\n",
        "assetList = [s for s in all_assets if target_asset in s]\n",
        "\n",
        "# Environmental covariates in GEE data catalog\n",
        "BIO = ee.Image(\"WORLDCLIM/V1/BIO\");\n",
        "Terrain = ee.Image(\"USGS/SRTMGL1_003\");\n",
        "predictors = BIO.addBands(Terrain);\n",
        "watermask =  Terrain.select('elevation').gt(0);\n",
        "predictors = predictors.updateMask(watermask).clip(AOI);\n",
        "bands = ['bio02','bio03','bio07','bio08','bio09','bio10','bio14','bio15','bio16','bio18','bio19','elevation'];\n",
        "predictors = predictors.select(bands);\n",
        "\n",
        "# Set classifiers \n",
        "# \"Random_Forest\" Gradient_Tree_Boost\n",
        "classifier_type = \"Gradient_Tree_Boost\"\n",
        "\n",
        "# Set absence/background methods \n",
        "# pseudoAbs_k_means background\n",
        "pseudoAbs_mode = \"pseudoAbs_k_means\""
      ]
    },
    {
      "cell_type": "code",
      "execution_count": null,
      "metadata": {
        "id": "bDGmGE64jDEn"
      },
      "outputs": [],
      "source": [
        "# check parameters and the assets are updated\n",
        "print(classifier_type,pseudoAbs_mode,outputFolder,len(assetList))\n",
        "assetList"
      ]
    },
    {
      "cell_type": "code",
      "execution_count": null,
      "metadata": {
        "id": "oMNoi2TK88dm"
      },
      "outputs": [],
      "source": [
        "#### send to gee and run for each species \n",
        "for index, PlantName in enumerate(assetList):\n",
        "  if index > 50:\n",
        "    print(PlantName)\n",
        "    Data = ee.FeatureCollection(PlantName)\n",
        "    # AOI_zoom = Data.geometry()\n",
        "    Data = RemoveDuplicates(Data)\n",
        "\n",
        "    # a random reducer for computational timed out if needed\n",
        "    Data = Data.randomColumn().sort('random').limit(ee.Number(occ_limit))\n",
        "    \n",
        "    # This will prevent having presence and pseudo-absences in the same pixel. \n",
        "    mask = Data.reduceToImage(['random'],ee.Reducer.first()).reproject('EPSG:4326', None, ee.Number(GrainSize)).mask().neq(1).selfMask();\n",
        "\n",
        "    # PA points generation:\n",
        "    # full background sample mode:\n",
        "    if pseudoAbs_mode == 'background':\n",
        "      AreaForPA = mask.updateMask(watermask).clip(AOI);\n",
        "    elif pseudoAbs_mode == 'pseudoAbs_k_means':\n",
        "      # pseudoAbs with k-means mode: \n",
        "      PixelVals = predictors.sampleRegions(collection= Data.randomColumn().sort('random').limit(200), properties= [], tileScale= 16, scale=GrainSize);\n",
        "      # Perform k-means clusteringthe clusterer and train it using based on Eeuclidean distance.\n",
        "      clusterer = ee.Clusterer.wekaKMeans(nClusters=2, distanceFunction=\"Euclidean\").train(PixelVals);\n",
        "      Clresult = predictors.cluster(clusterer);\n",
        "      clustID = Clresult.sampleRegions(collection=Data.randomColumn().sort('random').limit(200), properties=[], tileScale=16, scale=GrainSize);\n",
        "      clustID = ee.FeatureCollection(clustID).reduceColumns(ee.Reducer.mode(),['cluster']);\n",
        "      clustID = ee.Number(clustID.get('mode')).subtract(1).abs();\n",
        "      mask2 = Clresult.select(['cluster']).eq(clustID);\n",
        "      AreaForPA = mask.updateMask(mask2).clip(AOI);\n",
        "    else:\n",
        "      print(\"need to specify pseudo absence method!\")\n",
        "      break\n",
        "\n",
        "    # Create grid and remove cells outside AOI see front for Scale of spatial blocks\n",
        "    grid = makeGrid(AOI, Scale);\n",
        "    Grid = watermask.reduceRegions(collection=grid, reducer=ee.Reducer.mean()).filter(ee.Filter.neq('mean',None));\n",
        "    # map to random numbers\n",
        "    results = ee.List([35,68,43,54,17,46,76,88,24,12]).map(SDM);\n",
        "    results = results.flatten();\n",
        "\n",
        "    # Extract all model predictions\n",
        "    images = ee.List.sequence(0,ee.Number(numiter).multiply(4).subtract(1),4).map(getResults);\n",
        "\n",
        "    # Calculate mean of all individual model runs\n",
        "    ModelAverage = ee.ImageCollection.fromImages(images).mean();\n",
        "    \n",
        "    #####################################################################################################\n",
        "    \n",
        "    # # Model accuracy metrics using testing data\n",
        "    # TestingDatasets = ee.List.sequence(3,ee.Number(numiter).multiply(4).subtract(1),4).map(getResults);\n",
        "    # AUCROCs = ee.List.sequence(0,ee.Number(numiter).subtract(1),1).map(AUCROCaccuracy);\n",
        "    # AUCPRs = ee.List.sequence(0,ee.Number(numiter).subtract(1),1).map(AUCPRaccuracy);\n",
        "    # def AUC_ROCs(element):\n",
        "    #   return ee.Feature(None,{'AUCROC':element})\n",
        "    # def AUC_PRs(element):\n",
        "    #   return ee.Feature(None,{'AUCPR':element})\n",
        "\n",
        "    # AUCROCs = ee.batch.Export.table.toDrive(collection=ee.FeatureCollection(AUCROCs.map(AUC_ROCs)), \n",
        "    #                 folder='nymphs_csv_BRT_outputs', \n",
        "    #                 description=PlantName.rsplit('/', 1)[-1]+'_AUCROC',\n",
        "    #                 fileFormat='CSV') \n",
        "    # AUCROCs.start() \n",
        "\n",
        "    # AUCPRs = ee.batch.Export.table.toDrive(collection=ee.FeatureCollection(AUCPRs.map(AUC_PRs)), \n",
        "    #                 folder='nymphs_csv_BRT_outputs', \n",
        "    #                 description=PlantName.rsplit('/', 1)[-1]+'_AUCPR',\n",
        "    #                 fileFormat='CSV') \n",
        "    # AUCPRs.start()\n",
        "\n",
        "    ################################### export suitability maps ########################################\n",
        "\n",
        "    averaged_Suitability = ee.batch.Export.image.toDrive(image=ModelAverage, \n",
        "                        folder=outputFolder, \n",
        "                        scale=GrainSize,\n",
        "                        maxPixels=1e13,\n",
        "                        region=AOI,\n",
        "                        crs ='EPSG:4326',\n",
        "                        description=PlantName.rsplit('/', 1)[-1])\n",
        "    averaged_Suitability.start() \n",
        "    \n",
        "    #####################################################################################################"
      ]
    },
    {
      "cell_type": "code",
      "execution_count": null,
      "metadata": {
        "id": "NCEdrVjQDiyD"
      },
      "outputs": [],
      "source": [
        "# print task conditions\n",
        "while averaged_Suitability.active():\n",
        "  print('Task (id: {}).'.format(averaged_Suitability.id))\n",
        "  time.sleep(100)"
      ]
    },
    {
      "cell_type": "markdown",
      "source": [
        "## Visualize species presences within Colab"
      ],
      "metadata": {
        "id": "Gax-cxjNSUKH"
      }
    },
    {
      "cell_type": "code",
      "execution_count": null,
      "metadata": {
        "id": "Yx2PEFg9_81e"
      },
      "outputs": [],
      "source": [
        "geometry = ee.Geometry.Rectangle([120, 40, 120, 40])\n",
        "center = geometry.centroid().getInfo()['coordinates']\n",
        "center.reverse()\n",
        "occ_limit_vis=500\n",
        "Mapdisplay(center,{'data':RemoveDuplicates(ee.FeatureCollection('projects/earthengine-legacy/assets/users/hywong/occ_')).randomColumn().sort('random').limit(ee.Number(occ_limit_vis))\n",
        ".getInfo()},zoom_start=2)\n",
        "# Mapdisplay(center,{'AOI':AOI.getInfo()},zoom_start=7)"
      ]
    },
    {
      "cell_type": "markdown",
      "source": [
        "## Batch delete GEE assest"
      ],
      "metadata": {
        "id": "p77_FolxSMns"
      }
    },
    {
      "cell_type": "code",
      "execution_count": null,
      "metadata": {
        "id": "QqsF5eKn8PqA"
      },
      "outputs": [],
      "source": [
        "# # to batch delete assets. Use with care:  \n",
        "# assetList\n",
        "# for index, asses in enumerate(assetList):\n",
        "#   if index >= 0:\n",
        "#     ee.data.deleteAsset(asses)\t"
      ]
    }
  ],
  "metadata": {
    "colab": {
      "provenance": [],
      "authorship_tag": "ABX9TyNeIbLrLXOfAwvfGxurB6K8",
      "include_colab_link": true
    },
    "kernelspec": {
      "display_name": "Python 3",
      "name": "python3"
    },
    "language_info": {
      "name": "python"
    }
  },
  "nbformat": 4,
  "nbformat_minor": 0
}