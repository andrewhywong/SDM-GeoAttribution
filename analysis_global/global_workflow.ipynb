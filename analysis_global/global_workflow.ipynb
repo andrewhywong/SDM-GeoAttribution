{
  "cells": [
    {
      "cell_type": "markdown",
      "metadata": {
        "id": "view-in-github",
        "colab_type": "text"
      },
      "source": [
        "<a href=\"https://colab.research.google.com/github/andrewhywong/SDM-GeoAttribution/blob/main/analysis_global/global_workflow.ipynb\" target=\"_parent\"><img src=\"https://colab.research.google.com/assets/colab-badge.svg\" alt=\"Open In Colab\"/></a>"
      ]
    },
    {
      "cell_type": "markdown",
      "metadata": {
        "id": "NHfdCWqMxMXx"
      },
      "source": [
        "# Initialize Earth Engine"
      ]
    },
    {
      "cell_type": "code",
      "execution_count": null,
      "metadata": {
        "colab": {
          "base_uri": "https://localhost:8080/"
        },
        "id": "KqbGpwq3RlyJ",
        "outputId": "543625e9-7622-4f5e-cdbb-e7204e79b920"
      },
      "outputs": [
        {
          "output_type": "stream",
          "name": "stdout",
          "text": [
            "To authorize access needed by Earth Engine, open the following URL in a web browser and follow the instructions. If the web browser does not start automatically, please manually browse the URL below.\n",
            "\n",
            "    https://code.earthengine.google.com/client-auth?scopes=https%3A//www.googleapis.com/auth/earthengine%20https%3A//www.googleapis.com/auth/devstorage.full_control&request_id=Wbls6pDfqfcoZ0KrhAFYWO9zm2A_D3xHcY0sVPL5cFM&tc=4Jkksn_sXcfO9exmsu2Rhd-8H6yVSUtDYu7Jq2hyb_8&cc=rGWEciseipqrcLmSsZWuxXGtyxwIiU6ZV_ICm0i34ps\n",
            "\n",
            "The authorization workflow will generate a code, which you should paste in the box below.\n",
            "Enter verification code: 4/1AWtgzh4qZWvdPC7Zf3F4xUrwtHHh7b0P7BVdTXyFHwAfqjDws6CP3i5VI-o\n",
            "\n",
            "Successfully saved authorization token.\n"
          ]
        }
      ],
      "source": [
        "import ee\n",
        "ee.Authenticate()\n",
        "ee.Initialize()"
      ]
    },
    {
      "cell_type": "markdown",
      "metadata": {
        "id": "7VOY3Epyw_Tx"
      },
      "source": [
        "# Define functions for modeling"
      ]
    },
    {
      "cell_type": "code",
      "execution_count": null,
      "metadata": {
        "id": "EOrRl3rLslRg"
      },
      "outputs": [],
      "source": [
        "# check asset list and make sure it is updated\n",
        "def get_asset_list(parent):\n",
        "    parent_asset = ee.data.getAsset(parent)\n",
        "    parent_id = parent_asset['name']\n",
        "    parent_type = parent_asset['type']\n",
        "    asset_list = []\n",
        "    child_assets = ee.data.listAssets({'parent': parent_id})['assets']\n",
        "    for child_asset in child_assets:\n",
        "        child_id = child_asset['name']\n",
        "        child_type = child_asset['type']\n",
        "        if child_type in ['FOLDER','IMAGE_COLLECTION']:\n",
        "            asset_list.extend(get_asset_list(child_id))\n",
        "        else:\n",
        "            asset_list.append(child_id)\n",
        "    return asset_list\n",
        "\n",
        "# remove duplicated occurrences in the same pixel\n",
        "def RemoveDuplicates(data):\n",
        "  randomraster = ee.Image.random().reproject('EPSG:4326', None, GrainSize)\n",
        "  randpointvals = randomraster.sampleRegions(collection=ee.FeatureCollection(data), scale=10,geometries=True)\n",
        "  return randpointvals.distinct('random')\n",
        "\n",
        "# set precenses and absences\n",
        "def setPresence(feature):\n",
        "    return feature.set('PresAbs', 1)\n",
        "def setAbsence(feature):\n",
        "    return feature.set('PresAbs', 0)\n",
        "\n",
        "# Create grids for spatial block CV \n",
        "def makeGrid(geometry, scale):\n",
        "  lonLat = ee.Image.pixelLonLat();\n",
        "  lonGrid = lonLat.select('longitude').multiply(100000).toInt();\n",
        "  latGrid = lonLat.select('latitude').multiply(100000).toInt();\n",
        "  return lonGrid.multiply(latGrid).reduceToVectors(\n",
        "      geometry=geometry,\n",
        "      scale=scale,\n",
        "      geometryType='polygon',\n",
        "    );\n",
        "\n",
        "# Fitting SDM models\n",
        "def SDM(x):\n",
        "    Seed = ee.Number(x);\n",
        "    # Randomly split blocks for training and validation\n",
        "    GRID = ee.FeatureCollection(Grid).randomColumn(seed=Seed).sort('random');\n",
        "    TrainingGrid = GRID.filter(ee.Filter.lt('random', split));  \n",
        "    TestingGrid = GRID.filter(ee.Filter.gte('random', split)); \n",
        "\n",
        "    # Presences\n",
        "    PresencePoints = ee.FeatureCollection(Data);\n",
        "    PresencePoints = PresencePoints.map(setPresence);\n",
        "    TrPresencePoints = PresencePoints.filter(ee.Filter.bounds(TrainingGrid));  \n",
        "    TePresencePoints = PresencePoints.filter(ee.Filter.bounds(TestingGrid));  \n",
        "    \n",
        "    # Pseudo-absences\n",
        "    if pseudoAbs_mode == 'background':\n",
        "      TrPseudoAbsPoints = AreaForPA.sample(region=TrainingGrid, scale=GrainSize, numPixels=50000, seed=Seed, geometries=True);\n",
        "      TrPseudoAbsPoints = TrPseudoAbsPoints.map(setAbsence);\n",
        "      TePseudoAbsPoints = AreaForPA.sample(region=TestingGrid, scale=GrainSize, numPixels=10000, seed=Seed, geometries=True); \n",
        "      TePseudoAbsPoints = TePseudoAbsPoints.map(setAbsence);\n",
        "\n",
        "    elif pseudoAbs_mode == 'pseudoAbs_k_means':\n",
        "      TrPseudoAbsPoints = AreaForPA.sample(region=TrainingGrid, scale=GrainSize, numPixels=TrPresencePoints.size().add(500), seed=Seed, geometries=True); # THIS SHOULD NOT IMPACT COMPUTATION TIMED OUT\n",
        "      TrPseudoAbsPoints = TrPseudoAbsPoints.randomColumn().sort('random').limit(ee.Number(TrPresencePoints.size())); \n",
        "      TrPseudoAbsPoints = TrPseudoAbsPoints.map(setAbsence);\n",
        "      \n",
        "      TePseudoAbsPoints = AreaForPA.sample(region=TestingGrid, scale=GrainSize, numPixels=TePresencePoints.size().add(500), seed=Seed, geometries=True); \n",
        "      TePseudoAbsPoints = TePseudoAbsPoints.randomColumn().sort('random').limit(ee.Number(TePresencePoints.size())); \n",
        "      TePseudoAbsPoints = TePseudoAbsPoints.map(setAbsence);\n",
        "    else:\n",
        "      print(\"need to specify pseudo absence method!\")\n",
        "\n",
        "    trainingPartition = TrPresencePoints.merge(TrPseudoAbsPoints);\n",
        "    testingPartition = TePresencePoints.merge(TePseudoAbsPoints);\n",
        "\n",
        "    trainPixelVals = predictors.sampleRegions(collection=trainingPartition, properties=['PresAbs'], scale= GrainSize, tileScale= 16, geometries= True);\n",
        "\n",
        "    if classifier_type == \"Random_Forest\":\n",
        "      Classifier = ee.Classifier.smileRandomForest(\n",
        "        numberOfTrees=500, #The number of decision trees to create.\n",
        "        variablesPerSplit=None, #The number of variables per split. If unspecified, uses the square root of the number of variables.\n",
        "        minLeafPopulation=10, #Only create nodes whose training set contains at least this many points. Integer, default: 1\n",
        "        bagFraction=0.5, #The fraction of input to bag per tree. Default: 0.5.\n",
        "        maxNodes=None, #The maximum number of leaf nodes in each tree. If unspecified, defaults to no limit.\n",
        "        seed=Seed #The randomization seed.\n",
        "        );\n",
        "    elif classifier_type == \"Gradient_Tree_Boost\":\n",
        "      Classifier = ee.Classifier.smileGradientTreeBoost(\n",
        "        numberOfTrees=50, #The number of decision trees to create.\n",
        "        shrinkage=0.001, #The shrinkage parameter in (0, 1) controls the learning rate of procedure. Default: 0.005\n",
        "        samplingRate=0.75, #The sampling rate for stochastic tree boosting. Default 0.07\n",
        "        maxNodes=None, #The maximum number of leaf nodes in each tree. If unspecified, defaults to no limit.\n",
        "        loss=\"LeastAbsoluteDeviation\", #Loss function for regression. One of: LeastSquares, LeastAbsoluteDeviation, Huber.\n",
        "        seed=Seed #The randomization seed.\n",
        "      );\n",
        "    elif classifier_type == \"MaxEnt\":\n",
        "      Classifier = ee.Classifier.amnhMaxent(\n",
        "        autoFeature=True, #//Automatically select which feature classes to use, based on number of training samples.\n",
        "        addSamplesToBackground=True, #//Add to the background any sample for which has a combination of environmental values that isn't already present in the background.\n",
        "        extrapolate=True, #//Predict to regions of environmental space outside the limits encountered during training.\n",
        "        seed=Seed #//The randomization seed.\n",
        "      );\n",
        "    else:\n",
        "      print(\"No classifier_type specified!\")\n",
        "    \n",
        "    # Get presence suitability\n",
        "    ClassifierPr = Classifier.setOutputMode('PROBABILITY').train(trainPixelVals, 'PresAbs', bands); \n",
        "    ClassifiedImgPr = predictors.select(bands).classify(ClassifierPr);\n",
        "    \n",
        "    # # Binary presence/absence map\n",
        "    # ClassifierBin = Classifier.setOutputMode('CLASSIFICATION').train(trainPixelVals, 'PresAbs', bands); \n",
        "    # ClassifiedImgBin = predictors.select(bands).classify(ClassifierBin);\n",
        "   \n",
        "    # return ee.List([ClassifiedImgPr, ClassifiedImgBin, trainingPartition, testingPartition]);\n",
        "    return ee.List([ClassifiedImgPr, ClassifiedImgPr, trainingPartition, testingPartition]); # for maxent ClassifiedImgBin\n",
        "\n",
        "# get results values\n",
        "def getResults(x):\n",
        "  return results.get(x)\n",
        "\n"
      ]
    },
    {
      "cell_type": "markdown",
      "metadata": {
        "id": "ffetpFDvyztu"
      },
      "source": [
        "# Define functions for accuracy assessments"
      ]
    },
    {
      "cell_type": "code",
      "execution_count": null,
      "metadata": {
        "id": "9-jDFildy5id"
      },
      "outputs": [],
      "source": [
        "# Define functions to estimate sensitivity, specificity and precision at different thresholds.\n",
        "def getAcc(img,TP):\n",
        "  Pr_Prob_Vals = img.sampleRegions(collection=TP, properties=['PresAbs'], scale=GrainSize, tileScale= 16);\n",
        "  seq = ee.List.sequence(start=0, end=1, count=25);\n",
        "  def cut_(cutoff):\n",
        "    Pres = Pr_Prob_Vals.filterMetadata('PresAbs','equals',1); #.filter(ee.filter.eq('PresAbs',1))\n",
        "    # true-positive and true-positive rate, sensitivity  \n",
        "    TP =  ee.Number(Pres.filterMetadata('classification','greater_than',cutoff).size());\n",
        "    TPR = TP.divide(Pres.size());\n",
        "    Abs = Pr_Prob_Vals.filterMetadata('PresAbs','equals',0);\n",
        "    # false-negative\n",
        "    FN = ee.Number(Pres.filterMetadata('classification','less_than',cutoff).size());\n",
        "    # true-negative and true-negative rate, specificity  \n",
        "    TN = ee.Number(Abs.filterMetadata('classification','less_than',cutoff).size());\n",
        "    TNR = TN.divide(Abs.size());\n",
        "    # false-positive and false-positive rate\n",
        "    FP = ee.Number(Abs.filterMetadata('classification','greater_than',cutoff).size());\n",
        "    FPR = FP.divide(Abs.size());\n",
        "    # precision\n",
        "    Precision = TP.divide(TP.add(FP));\n",
        "    # sum of sensitivity and specificity\n",
        "    SUMSS = TPR.add(TNR);\n",
        "    return ee.Feature(None,{'cutoff': cutoff, 'TP':TP, 'TN':TN, 'FP':FP, 'FN':FN, 'TPR':TPR, 'TNR':TNR, 'FPR':FPR, 'Precision':Precision, 'SUMSS':SUMSS});\n",
        "\n",
        "  return ee.FeatureCollection(seq.map(cut_));\n",
        "\n",
        "# Calculate AUC of the Receiver Operator Characteristic\n",
        "def getAUCROC(x):\n",
        "  X = ee.Array(x.aggregate_array('FPR'));\n",
        "  Y = ee.Array(x.aggregate_array('TPR')); \n",
        "  X1 = X.slice(0,1).subtract(X.slice(0,0,-1));\n",
        "  Y1 = Y.slice(0,1).add(Y.slice(0,0,-1));\n",
        "  return X1.multiply(Y1).multiply(0.5).reduce('sum',[0]).abs().toList().get(0);\n",
        "\n",
        "\n",
        "def AUCROCaccuracy(x):\n",
        "  HSM = ee.Image(images.get(x));\n",
        "  TData = ee.FeatureCollection(TestingDatasets.get(x));\n",
        "  Acc = getAcc(HSM, TData);\n",
        "  return getAUCROC(Acc);\n",
        "\n",
        "# Calculate AUC of Precision Recall Curve\n",
        "def getAUCPR(roc):\n",
        "  X = ee.Array(roc.aggregate_array('TPR'));\n",
        "  Y = ee.Array(roc.aggregate_array('Precision')); \n",
        "  X1 = X.slice(0,1).subtract(X.slice(0,0,-1));\n",
        "  Y1 = Y.slice(0,1).add(Y.slice(0,0,-1));\n",
        "  return X1.multiply(Y1).multiply(0.5).reduce('sum',[0]).abs().toList().get(0);\n",
        "\n",
        "def AUCPRaccuracy(x):\n",
        "  HSM = ee.Image(images.get(x));\n",
        "  TData = ee.FeatureCollection(TestingDatasets.get(x));\n",
        "  Acc = getAcc(HSM, TData);\n",
        "  return getAUCPR(Acc);"
      ]
    },
    {
      "cell_type": "markdown",
      "metadata": {
        "id": "4AOIDz6txF6f"
      },
      "source": [
        "# Model parameters and input"
      ]
    },
    {
      "cell_type": "code",
      "execution_count": null,
      "metadata": {
        "colab": {
          "base_uri": "https://localhost:8080/"
        },
        "id": "aF1hF3di7GnJ",
        "outputId": "bf369fd4-2873-4b5f-b1ec-b0ff671d861e"
      },
      "outputs": [
        {
          "output_type": "stream",
          "name": "stdout",
          "text": [
            "Found 616 assets\n"
          ]
        }
      ],
      "source": [
        "all_assets = get_asset_list(\"users/hywong\")\n",
        "print('Found {} assets'.format(len(all_assets)))\n"
      ]
    },
    {
      "cell_type": "code",
      "execution_count": null,
      "metadata": {
        "id": "_XKXtgkaprrB"
      },
      "outputs": [],
      "source": [
        "## Model hyperparameters \n",
        "\n",
        "# set output folder - do not overwrite\n",
        "target_case = 'occ_nymphs_cloth_global/' # gee asset folder name\n",
        "outputFolder = 'cloth_rf_global'\n",
        "\n",
        "# Set seed\n",
        "Seed=78731\n",
        "\n",
        "# Define partition for training and testing data\n",
        "split = 0.80 # 0.80;  # # The proportion of the blocks used to select training data\n",
        "\n",
        "# Define number of repetitions\n",
        "numiter = 10;\n",
        "\n",
        "# bee, pixel-size, and scale for cross validation in grid\n",
        "# occ_limit=4899\n",
        "GrainSize = 900\n",
        "Scale = 500000\n",
        "\n",
        "# # define AOI: subcontinental AOI\n",
        "# subcont = ee.Geometry.BBox(-125,  25,-90, 43);\n",
        "\n",
        "# if global:\n",
        "# some predictor variables are not global e.g. SRTM due to satellite instrument \n",
        "global_aoi = ee.Geometry.BBox(-179.999999, -60, 179.999999, 60);\n",
        "\n",
        "# SUB_AOI = ee.Geometry.BBox(-120, 30, -90, 60); #179.999999\n",
        "\n",
        "#### DIFF EXTENTS for cases:\n",
        "# SUB_AOI = ee.Geometry.BBox(-125, 24, -65, 50); #USA\n",
        "# SUB_AOI = ee.Geometry.BBox(72, 18, 136, 58); #China\n",
        "\n",
        "# -179.999999, -50, 179.999999, 50\n",
        "AOI = global_aoi;\n",
        "\n",
        "# iterate assets and grab the name of FeatureCollection:\n",
        "# target_asset = 'projects/earthengine-legacy/assets/users/hywong/occ_gcloud_global/' \n",
        "target_asset = 'projects/earthengine-legacy/assets/users/hywong/'+target_case\n",
        "\n",
        "assetList = [s for s in all_assets if target_asset in s]\n",
        "\n",
        "# Load WorldClim BIO Variables (a multiband image) from the data catalog\n",
        "BIO = ee.Image(\"WORLDCLIM/V1/BIO\");\n",
        "Terrain = ee.Image(\"USGS/SRTMGL1_003\");\n",
        "predictors = BIO.addBands(Terrain);\n",
        "watermask =  Terrain.select('elevation').gt(0);\n",
        "predictors = predictors.updateMask(watermask).clip(AOI);\n",
        "\n",
        "bands = ['bio02','bio03','bio07','bio08','bio09','bio10','bio14','bio15','bio16','bio18','bio19','elevation'];\n",
        "predictors = predictors.select(bands);\n",
        "\n",
        "# which classifier? \n",
        "# \"Random_Forest\" Gradient_Tree_Boost\n",
        "classifier_type = \"Random_Forest\"\n",
        "# pseudoAbs_k_means background\n",
        "pseudoAbs_mode = \"pseudoAbs_k_means\"\n",
        "\n"
      ]
    },
    {
      "cell_type": "code",
      "execution_count": null,
      "metadata": {
        "id": "bDGmGE64jDEn"
      },
      "outputs": [],
      "source": [
        "# double check the assets are updated!!\n",
        "assetList"
      ]
    },
    {
      "cell_type": "code",
      "execution_count": null,
      "metadata": {
        "colab": {
          "base_uri": "https://localhost:8080/"
        },
        "id": "rysrFqdwFqO-",
        "outputId": "8494fa2f-8c5f-4cda-eb3e-8de25968da25"
      },
      "outputs": [
        {
          "output_type": "stream",
          "name": "stdout",
          "text": [
            "Random_Forest\n",
            "pseudoAbs_k_means\n",
            "cloth_rf_global\n",
            "50\n"
          ]
        }
      ],
      "source": [
        "print(classifier_type)\n",
        "print(pseudoAbs_mode)\n",
        "print(outputFolder)\n",
        "print(len(assetList))"
      ]
    },
    {
      "cell_type": "code",
      "execution_count": null,
      "metadata": {
        "id": "QZYb57P932eM"
      },
      "outputs": [],
      "source": [
        "# # err_asset = ['URDI','TRRE3','TRPR2','TAGET','SONCH','SOLY2','RESED','POTE','PLLA','MESA','MEPU','LOMA','DACA6',\n",
        "# #              'CYCA','COSA','COMA2','COAR4','CIIN','CESO3','BROLI','BRASS2','ALSC','ACMI2']\n",
        "# # err_asset = ['Tsuga','Tilia','Rhus','Populus','Plantago','Pinus','POACEAE','Liquidambar','Fraxinus','FABACEAE','ERICACEAE',\n",
        "# #              'CARYOPHYLLACEAE']\n",
        "# err_asset = ['Pinus','Populus','Rhus','Typha']\n",
        "# assetList_err = []\n",
        "# for erred in err_asset:\n",
        "#   assetList_err.append(target_asset+erred)"
      ]
    },
    {
      "cell_type": "code",
      "source": [
        "assetList_err"
      ],
      "metadata": {
        "colab": {
          "base_uri": "https://localhost:8080/"
        },
        "id": "PP09zBsvIrfT",
        "outputId": "91ce7a52-3e01-4056-c5d9-be461f72aae9"
      },
      "execution_count": null,
      "outputs": [
        {
          "output_type": "execute_result",
          "data": {
            "text/plain": [
              "['projects/earthengine-legacy/assets/users/hywong/occ_doe/Pinus',\n",
              " 'projects/earthengine-legacy/assets/users/hywong/occ_doe/Populus',\n",
              " 'projects/earthengine-legacy/assets/users/hywong/occ_doe/Rhus',\n",
              " 'projects/earthengine-legacy/assets/users/hywong/occ_doe/Typha']"
            ]
          },
          "metadata": {},
          "execution_count": 8
        }
      ]
    },
    {
      "cell_type": "code",
      "execution_count": null,
      "metadata": {
        "id": "oMNoi2TK88dm",
        "colab": {
          "base_uri": "https://localhost:8080/"
        },
        "outputId": "407f912b-5662-406b-dee4-036e66f2c6fb"
      },
      "outputs": [
        {
          "output_type": "stream",
          "name": "stdout",
          "text": [
            "projects/earthengine-legacy/assets/users/hywong/occ_nymphs_cloth_global/Acalypha_ostryifolia\n",
            "projects/earthengine-legacy/assets/users/hywong/occ_nymphs_cloth_global/Achillea_millefolium\n",
            "projects/earthengine-legacy/assets/users/hywong/occ_nymphs_cloth_global/Allium\n",
            "projects/earthengine-legacy/assets/users/hywong/occ_nymphs_cloth_global/Amaranthus_retroflexus\n",
            "projects/earthengine-legacy/assets/users/hywong/occ_nymphs_cloth_global/Anethum_graveolens\n",
            "projects/earthengine-legacy/assets/users/hywong/occ_nymphs_cloth_global/Caesalpinia_pulcherrima\n",
            "projects/earthengine-legacy/assets/users/hywong/occ_nymphs_cloth_global/Calyptocarpus_vialis\n",
            "projects/earthengine-legacy/assets/users/hywong/occ_nymphs_cloth_global/Capsicum\n",
            "projects/earthengine-legacy/assets/users/hywong/occ_nymphs_cloth_global/Carya\n",
            "projects/earthengine-legacy/assets/users/hywong/occ_nymphs_cloth_global/Chamaesaracha\n",
            "projects/earthengine-legacy/assets/users/hywong/occ_nymphs_cloth_global/Cirsium_texanum\n",
            "projects/earthengine-legacy/assets/users/hywong/occ_nymphs_cloth_global/Croton\n",
            "projects/earthengine-legacy/assets/users/hywong/occ_nymphs_cloth_global/Daucus_carota\n",
            "projects/earthengine-legacy/assets/users/hywong/occ_nymphs_cloth_global/Engelmannia_peristenia\n",
            "projects/earthengine-legacy/assets/users/hywong/occ_nymphs_cloth_global/Eysenhardtia__texana\n",
            "projects/earthengine-legacy/assets/users/hywong/occ_nymphs_cloth_global/Foeniculum\n",
            "projects/earthengine-legacy/assets/users/hywong/occ_nymphs_cloth_global/Gaillardia_pulchella\n",
            "projects/earthengine-legacy/assets/users/hywong/occ_nymphs_cloth_global/Glandularia_pulchella\n",
            "projects/earthengine-legacy/assets/users/hywong/occ_nymphs_cloth_global/Helenium_amarum\n",
            "projects/earthengine-legacy/assets/users/hywong/occ_nymphs_cloth_global/Helianthus_annuus\n",
            "projects/earthengine-legacy/assets/users/hywong/occ_nymphs_cloth_global/Lactuca\n",
            "projects/earthengine-legacy/assets/users/hywong/occ_nymphs_cloth_global/Lagerstroemia\n",
            "projects/earthengine-legacy/assets/users/hywong/occ_nymphs_cloth_global/Medicago_lupulina\n",
            "projects/earthengine-legacy/assets/users/hywong/occ_nymphs_cloth_global/Melampodium_leucanthum\n",
            "projects/earthengine-legacy/assets/users/hywong/occ_nymphs_cloth_global/Melilotus_officinalis\n",
            "projects/earthengine-legacy/assets/users/hywong/occ_nymphs_cloth_global/Monarda_citriodora\n",
            "projects/earthengine-legacy/assets/users/hywong/occ_nymphs_cloth_global/Ocimum_basilicum\n",
            "projects/earthengine-legacy/assets/users/hywong/occ_nymphs_cloth_global/Oxalis\n",
            "projects/earthengine-legacy/assets/users/hywong/occ_nymphs_cloth_global/Oxalis_dillenii\n",
            "projects/earthengine-legacy/assets/users/hywong/occ_nymphs_cloth_global/Parkinsonia_aculeata\n",
            "projects/earthengine-legacy/assets/users/hywong/occ_nymphs_cloth_global/Parthenium__hysterophorus\n",
            "projects/earthengine-legacy/assets/users/hywong/occ_nymphs_cloth_global/Physalis_cinerascens\n",
            "projects/earthengine-legacy/assets/users/hywong/occ_nymphs_cloth_global/Pinus\n",
            "projects/earthengine-legacy/assets/users/hywong/occ_nymphs_cloth_global/Plantago\n",
            "projects/earthengine-legacy/assets/users/hywong/occ_nymphs_cloth_global/Prosopis_glandulosa\n",
            "projects/earthengine-legacy/assets/users/hywong/occ_nymphs_cloth_global/Ratibida_columnifera\n",
            "projects/earthengine-legacy/assets/users/hywong/occ_nymphs_cloth_global/Salvia\n",
            "projects/earthengine-legacy/assets/users/hywong/occ_nymphs_cloth_global/Solanum_dimidiatum\n",
            "projects/earthengine-legacy/assets/users/hywong/occ_nymphs_cloth_global/Solanum_elaeagnifolium\n",
            "projects/earthengine-legacy/assets/users/hywong/occ_nymphs_cloth_global/Solanum_lycopersicum\n",
            "projects/earthengine-legacy/assets/users/hywong/occ_nymphs_cloth_global/Stellaria_media\n",
            "projects/earthengine-legacy/assets/users/hywong/occ_nymphs_cloth_global/Stenaria__nigricans\n",
            "projects/earthengine-legacy/assets/users/hywong/occ_nymphs_cloth_global/Symphyotrichum_oblongifolium\n",
            "projects/earthengine-legacy/assets/users/hywong/occ_nymphs_cloth_global/Tetraneuris_linearifolia\n",
            "projects/earthengine-legacy/assets/users/hywong/occ_nymphs_cloth_global/Thelesperma_simplicifolium\n",
            "projects/earthengine-legacy/assets/users/hywong/occ_nymphs_cloth_global/Torilis_arvensis\n",
            "projects/earthengine-legacy/assets/users/hywong/occ_nymphs_cloth_global/Veronica\n",
            "projects/earthengine-legacy/assets/users/hywong/occ_nymphs_cloth_global/Vitex_agnus-castus\n",
            "projects/earthengine-legacy/assets/users/hywong/occ_nymphs_cloth_global/Wedelia_acapulcensis\n",
            "projects/earthengine-legacy/assets/users/hywong/occ_nymphs_cloth_global/Zea_mays\n"
          ]
        }
      ],
      "source": [
        "#### a loop to run \n",
        "for index, PlantName in enumerate(assetList):\n",
        "  if index >= 0:\n",
        "    print(PlantName)\n",
        "    Data = ee.FeatureCollection(PlantName)\n",
        "    # AOI_zoom = Data.geometry()\n",
        "    Data = RemoveDuplicates(Data)\n",
        "\n",
        "    # # a random reducer for computational timed out if needed\n",
        "    # Data = Data.randomColumn().sort('random').limit(ee.Number(occ_limit))\n",
        "    \n",
        "    # This will prevent having presence and pseudo-absences in the same pixel. \n",
        "    mask = Data.reduceToImage(['random'],ee.Reducer.first()).reproject('EPSG:4326', None, ee.Number(GrainSize)).mask().neq(1).selfMask();\n",
        "\n",
        "    # PA points generation:\n",
        "    # full background sample mode:\n",
        "    if pseudoAbs_mode == 'background':\n",
        "      AreaForPA = mask.updateMask(watermask).clip(AOI);\n",
        "    elif pseudoAbs_mode == 'pseudoAbs_k_means':\n",
        "      # pseudoAbs with k-means mode: \n",
        "      PixelVals = predictors.sampleRegions(collection= Data.randomColumn().sort('random').limit(200), properties= [], tileScale= 16, scale=GrainSize);\n",
        "      # Perform k-means clusteringthe clusterer and train it using based on Eeuclidean distance.\n",
        "      clusterer = ee.Clusterer.wekaKMeans(nClusters=2, distanceFunction=\"Euclidean\").train(PixelVals);\n",
        "      Clresult = predictors.cluster(clusterer);\n",
        "      clustID = Clresult.sampleRegions(collection=Data.randomColumn().sort('random').limit(200), properties=[], tileScale=16, scale=GrainSize);\n",
        "      clustID = ee.FeatureCollection(clustID).reduceColumns(ee.Reducer.mode(),['cluster']);\n",
        "      clustID = ee.Number(clustID.get('mode')).subtract(1).abs();\n",
        "      mask2 = Clresult.select(['cluster']).eq(clustID);\n",
        "      AreaForPA = mask.updateMask(mask2).clip(AOI);\n",
        "    else:\n",
        "      print(\"need to specify pseudo absence method!\")\n",
        "      break\n",
        "\n",
        "    # #################################### uncomment below for equal running, which export the Presence and pseudo in R for equal running \n",
        "    # PresencePoints = ee.FeatureCollection(Data).map(setPresence);\n",
        "    # # TrPresencePoints = PresencePoints.filter(ee.Filter.bounds(AOI));  # if needed, Filter presence points for training \n",
        "    # # TePresencePoints = PresencePoints.filter(ee.Filter.bounds(TestingGrid));  # Filter presence points for testing\n",
        "\n",
        "    # # Pseudo-absences\n",
        "    # # We add extra points to account for those points that land in masked areas of the raster and are discarded. This ensures a balanced presence/pseudo-absence data set\n",
        "    # TrPseudoAbsPoints = AreaForPA.sample(region=AOI, scale=GrainSize, numPixels=PresencePoints.size().add(3000), seed=Seed, geometries=True); #\n",
        "\n",
        "    # # # DO THIS STEP IN R SINCE THE RASTER EXTRACTION WILL END UP WITH OMITTED PA DATA, NOT EQUAL TO PRESENCE\n",
        "    # # # Randomly retain the same number of pseudo-absences as presence data\n",
        "    # # TrPseudoAbsPoints = TrPseudoAbsPoints.randomColumn().sort('random').limit(ee.Number(PresencePoints.size())); \n",
        "    # TrPseudoAbsPoints = TrPseudoAbsPoints.randomColumn().sort('random')\n",
        "    # TrPseudoAbsPoints = TrPseudoAbsPoints.map(setAbsence);\n",
        "    # TrPseudoAbsPoints = PresencePoints.merge(TrPseudoAbsPoints);\n",
        "\n",
        "    ###################################################################################################\n",
        "    # # if export layer to work in R, need to export BOTH duplication-removed presence AND areaforPA:\n",
        "    # taskOCC = ee.batch.Export.table.toDrive(collection=Data, \n",
        "    #                     folder='NYMPHS GEE_OUTPUT', \n",
        "    #                     description='thinned_'+'CIIN',\n",
        "    #                     fileFormat='CSV')\n",
        "\n",
        "    # taskAREAPA = ee.batch.Export.image.toDrive(image=AreaForPA, # time: 30min per layer\n",
        "    #                     folder='NYMPHS GEE_OUTPUT',\n",
        "    #                     region =  subcont,\n",
        "    #                     scale = 900,\n",
        "    #                     description='areaForPA'+'CIIN')\n",
        "\n",
        "    # taskOCC_PA = ee.batch.Export.table.toDrive(collection=TrPseudoAbsPoints, \n",
        "    #                     folder='occdata_rmFull_GEE', \n",
        "    #                     description=PlantName.rsplit('/', 1)[-1],\n",
        "    #                     fileFormat='CSV')\n",
        "    # taskOCC_PA.start() \n",
        "    ################################################################################################################################\n",
        "\n",
        "    # Create grid and remove cells outside AOI see front for Scale of spatial blocks\n",
        "    grid = makeGrid(AOI, Scale);\n",
        "    Grid = watermask.reduceRegions(collection=grid, reducer=ee.Reducer.mean()).filter(ee.Filter.neq('mean',None));\n",
        "\n",
        "    # if classifier_type == \"\":\n",
        "        \n",
        "    # While the runif function can be used to generate random seeds, we map the SDM function over random created numbers for reproducibility of results\n",
        "    results = ee.List([35,68,43,54,17,46,76,88,24,12]).map(SDM);\n",
        "\n",
        "    # Extract results from list\n",
        "    results = results.flatten();\n",
        "\n",
        "    #################################\n",
        "    # Extracting and displaying model prediction results\n",
        "    #################################\n",
        "\n",
        "    # Extract all model predictions\n",
        "    images = ee.List.sequence(0,ee.Number(numiter).multiply(4).subtract(1),4).map(getResults);\n",
        "\n",
        "    # Calculate mean of all individual model runs\n",
        "    ModelAverage = ee.ImageCollection.fromImages(images).mean();\n",
        "\n",
        "    ################################### export suitability maps:################################################\n",
        "    averaged_Suitability = ee.batch.Export.image.toDrive(image=ModelAverage, \n",
        "                        folder=outputFolder, \n",
        "                        scale=GrainSize,\n",
        "                        maxPixels=1e13,\n",
        "                        region=AOI,\n",
        "                        crs ='EPSG:4326',\n",
        "                        description=PlantName.rsplit('/', 1)[-1]+'_brt') #+str('_jian10du') +'_'+str(Scale) +str(GrainSize)\n",
        "    averaged_Suitability.start() \n",
        "    ###########################################################################################################\n",
        "\n",
        "    # # Extract testing/validation data sets\n",
        "    # TestingDatasets = ee.List.sequence(3,ee.Number(numiter).multiply(4).subtract(1),4).map(getResults);\n",
        "    # AUCROCs = ee.List.sequence(0,ee.Number(numiter).subtract(1),1).map(AUCROCaccuracy);\n",
        "    # AUCPRs = ee.List.sequence(0,ee.Number(numiter).subtract(1),1).map(AUCPRaccuracy);\n",
        "    # def AUC_ROCs(element):\n",
        "    #   return ee.Feature(None,{'AUCROC':element})\n",
        "    # def AUC_PRs(element):\n",
        "    #   return ee.Feature(None,{'AUCPR':element})\n",
        "\n",
        "    # AUCROCs = ee.batch.Export.table.toDrive(collection=ee.FeatureCollection(AUCROCs.map(AUC_ROCs)), \n",
        "    #                 folder='nymphs_csv_BRT_outputs', \n",
        "    #                 description=PlantName.rsplit('/', 1)[-1]+'_AUCROC',\n",
        "    #                 fileFormat='CSV') \n",
        "    # AUCROCs.start() \n",
        "\n",
        "    # AUCPRs = ee.batch.Export.table.toDrive(collection=ee.FeatureCollection(AUCPRs.map(AUC_PRs)), \n",
        "    #                 folder='nymphs_csv_BRT_outputs', \n",
        "    #                 description=PlantName.rsplit('/', 1)[-1]+'_AUCPR',\n",
        "    #                 fileFormat='CSV') \n",
        "    # AUCPRs.start()\n",
        " \n"
      ]
    },
    {
      "cell_type": "code",
      "execution_count": null,
      "metadata": {
        "id": "NCEdrVjQDiyD"
      },
      "outputs": [],
      "source": [
        "# import time\n",
        "# while averaged_Suitability.active():\n",
        "#   print('Polling for task (id: {}).'.format(averaged_Suitability.id))\n",
        "#   time.sleep(200)"
      ]
    },
    {
      "cell_type": "code",
      "execution_count": null,
      "metadata": {
        "colab": {
          "base_uri": "https://localhost:8080/"
        },
        "id": "bS1cXMJsc-KB",
        "outputId": "29c6741a-5496-48ca-8c4b-d99a645cd417"
      },
      "outputs": [
        {
          "name": "stdout",
          "output_type": "stream",
          "text": [
            "5000\n",
            "1000\n",
            "3\n",
            "[[[-179.999999, -60], [179.999999, -60], [179.999999, 60], [-179.999999, 60], [-179.999999, -60]]]\n",
            "projects/earthengine-legacy/assets/users/hywong/occ_gcloud_global/ARPL\n"
          ]
        }
      ],
      "source": [
        "print(GrainSize)\n",
        "# print(len(Data.getInfo()))\n",
        "print(AOI.getInfo()['coordinates'])\n",
        "print(PlantName)\n",
        "\n",
        "    # # cloud storage:\n",
        "    # outputBucket = 'nymphs_bucket_occ' #Change for your Cloud Storage bucket\n",
        "    # averaged_Suitability = ee.batch.Export.image.toCloudStorage(\n",
        "    #     image=ModelAverage,\n",
        "    #     description=PlantName.rsplit('/', 1)[-1]+'_'+str(occ_limit)+'_'+str(GrainSize)+'_'+str(Scale),\n",
        "    #     scale=GrainSize,\n",
        "    #     maxPixels=1e13,\n",
        "    #     region=AOI.getInfo()['coordinates'],\n",
        "    #     bucket=outputBucket,\n",
        "    #     formatOptions={'cloudOptimized': True}\n",
        "    # )\n",
        "    # assetParent = 'users/hywong/nymphs_raster_output/'\n",
        "    # # to asset:\n",
        "    # averaged_Suitability_2 = ee.batch.Export.image.toAsset(\n",
        "    #     image=ModelAverage,\n",
        "    #     description=PlantName.rsplit('/', 1)[-1]+'_'+str(occ_limit)+'_'+str(GrainSize)+'_'+str(Scale),\n",
        "    #     scale=GrainSize,\n",
        "    #     maxPixels=1e13,\n",
        "    #     region=AOI.getInfo()['coordinates'],\n",
        "    #     assetId=assetParent+PlantName.rsplit('/', 1)[-1]+'_'+str(occ_limit)+'_'+str(GrainSize)+'_'+str(Scale)\n",
        "    # )\n",
        "    # averaged_Suitability_2.start()"
      ]
    },
    {
      "cell_type": "code",
      "execution_count": null,
      "metadata": {
        "colab": {
          "base_uri": "https://localhost:8080/"
        },
        "id": "NJLh1LnKLpHp",
        "outputId": "a09b97e9-4d32-4d61-a07d-51b13d65bfa6"
      },
      "outputs": [
        {
          "output_type": "execute_result",
          "data": {
            "text/plain": [
              "['projects/earthengine-legacy/assets/users/hywong/occ_china_speciesLevel_global/Abutilon_',\n",
              " 'projects/earthengine-legacy/assets/users/hywong/occ_china_speciesLevel_global/Arabidopsis_',\n",
              " 'projects/earthengine-legacy/assets/users/hywong/occ_china_speciesLevel_global/Aristolochia_',\n",
              " 'projects/earthengine-legacy/assets/users/hywong/occ_china_speciesLevel_global/Artemisia_vulgaris',\n",
              " 'projects/earthengine-legacy/assets/users/hywong/occ_china_speciesLevel_global/Artocarpus_styracifolius',\n",
              " 'projects/earthengine-legacy/assets/users/hywong/occ_china_speciesLevel_global/Betula_',\n",
              " 'projects/earthengine-legacy/assets/users/hywong/occ_china_speciesLevel_global/Broussonetia_papyrifera',\n",
              " 'projects/earthengine-legacy/assets/users/hywong/occ_china_speciesLevel_global/Cannabis_sativa',\n",
              " 'projects/earthengine-legacy/assets/users/hywong/occ_china_speciesLevel_global/Citrullus_lanatus',\n",
              " 'projects/earthengine-legacy/assets/users/hywong/occ_china_speciesLevel_global/Citrus_sinensis',\n",
              " 'projects/earthengine-legacy/assets/users/hywong/occ_china_speciesLevel_global/Coptis_deltoidea',\n",
              " 'projects/earthengine-legacy/assets/users/hywong/occ_china_speciesLevel_global/Dimocarpus_longan',\n",
              " 'projects/earthengine-legacy/assets/users/hywong/occ_china_speciesLevel_global/Geranium_',\n",
              " 'projects/earthengine-legacy/assets/users/hywong/occ_china_speciesLevel_global/Gnetum_',\n",
              " 'projects/earthengine-legacy/assets/users/hywong/occ_china_speciesLevel_global/Heritiera_',\n",
              " 'projects/earthengine-legacy/assets/users/hywong/occ_china_speciesLevel_global/Homocodon_brevipes',\n",
              " 'projects/earthengine-legacy/assets/users/hywong/occ_china_speciesLevel_global/Lycium_',\n",
              " 'projects/earthengine-legacy/assets/users/hywong/occ_china_speciesLevel_global/Mesua_ferrea',\n",
              " 'projects/earthengine-legacy/assets/users/hywong/occ_china_speciesLevel_global/Nigella_arvensis',\n",
              " 'projects/earthengine-legacy/assets/users/hywong/occ_china_speciesLevel_global/Nigella_damascena',\n",
              " 'projects/earthengine-legacy/assets/users/hywong/occ_china_speciesLevel_global/Oryza_sativa',\n",
              " 'projects/earthengine-legacy/assets/users/hywong/occ_china_speciesLevel_global/Papaver_somniferum',\n",
              " 'projects/earthengine-legacy/assets/users/hywong/occ_china_speciesLevel_global/Phoenix_canariensis',\n",
              " 'projects/earthengine-legacy/assets/users/hywong/occ_china_speciesLevel_global/Pinus_',\n",
              " 'projects/earthengine-legacy/assets/users/hywong/occ_china_speciesLevel_global/Platycladus_orientalis',\n",
              " 'projects/earthengine-legacy/assets/users/hywong/occ_china_speciesLevel_global/Psoralea_corylifolia',\n",
              " 'projects/earthengine-legacy/assets/users/hywong/occ_china_speciesLevel_global/Spiraea_',\n",
              " 'projects/earthengine-legacy/assets/users/hywong/occ_china_speciesLevel_global/Triticum_',\n",
              " 'projects/earthengine-legacy/assets/users/hywong/occ_china_speciesLevel_global/Typha_latifolia',\n",
              " 'projects/earthengine-legacy/assets/users/hywong/occ_china_speciesLevel_global/Vatica_mangachapoi']"
            ]
          },
          "metadata": {},
          "execution_count": 27
        }
      ],
      "source": [
        "assetList"
      ]
    },
    {
      "cell_type": "code",
      "execution_count": null,
      "metadata": {
        "id": "QqsF5eKn8PqA"
      },
      "outputs": [],
      "source": [
        "# # to batch delete assets. Use with care:  \n",
        "# # https:#spatialthoughts.com/2022/02/24/gee-asset-management/\n",
        "# assetList\n",
        "# for index, asses in enumerate(assetList):\n",
        "#   if index >= 0:\n",
        "#     ee.data.deleteAsset(asses)\t"
      ]
    },
    {
      "cell_type": "markdown",
      "metadata": {
        "id": "x0--eWGMFat7"
      },
      "source": [
        "# Below codes visualize GEE"
      ]
    },
    {
      "cell_type": "code",
      "execution_count": null,
      "metadata": {
        "colab": {
          "base_uri": "https://localhost:8080/"
        },
        "id": "ah-IrdSy97hl",
        "outputId": "6e1d1e05-6531-4ef4-b53a-48c5d3622986"
      },
      "outputs": [
        {
          "output_type": "stream",
          "name": "stdout",
          "text": [
            "Folium version: 0.12.1.post1\n"
          ]
        }
      ],
      "source": [
        "import folium\n",
        "\n",
        "# Define the URL format used for Earth Engine generated map tiles.\n",
        "EE_TILES = 'https://earthengine.googleapis.com/map/{mapid}/{{z}}/{{x}}/{{y}}?token={token}'\n",
        "\n",
        "print('Folium version: ' + folium.__version__)"
      ]
    },
    {
      "cell_type": "code",
      "execution_count": null,
      "metadata": {
        "id": "7-vjgtPF_jgm"
      },
      "outputs": [],
      "source": [
        "#@title Mapdisplay: Display GEE objects using folium.\n",
        "def Mapdisplay(center, dicc, Tiles=\"OpensTreetMap\",zoom_start=10):\n",
        "    '''\n",
        "    :param center: Center of the map (Latitude and Longitude).\n",
        "    :param dicc: Earth Engine Geometries or Tiles dictionary\n",
        "    :param Tiles: Mapbox Bright,Mapbox Control Room,Stamen Terrain,Stamen Toner,stamenwatercolor,cartodbpositron.\n",
        "    :zoom_start: Initial zoom level for the map.\n",
        "    :return: A folium.Map object.\n",
        "    '''\n",
        "    mapViz = folium.Map(location=center,tiles=Tiles, zoom_start=zoom_start)\n",
        "    for k,v in dicc.items():\n",
        "      if ee.image.Image in [type(x) for x in v.values()]:\n",
        "        folium.TileLayer(\n",
        "            tiles = v[\"tile_fetcher\"].url_format,\n",
        "            attr  = 'Google Earth Engine',\n",
        "            overlay =True,\n",
        "            name  = k\n",
        "          ).add_to(mapViz)\n",
        "      else:\n",
        "        folium.GeoJson(\n",
        "        data = v,\n",
        "        name = k\n",
        "          ).add_to(mapViz)\n",
        "    mapViz.add_child(folium.LayerControl())\n",
        "    return mapViz"
      ]
    },
    {
      "cell_type": "code",
      "execution_count": null,
      "metadata": {
        "colab": {
          "base_uri": "https://localhost:8080/",
          "height": 712
        },
        "id": "Yx2PEFg9_81e",
        "outputId": "2d22b8db-8dc8-4638-c1d4-f70e7d92f1cc"
      },
      "outputs": [
        {
          "output_type": "execute_result",
          "data": {
            "text/plain": [
              "<folium.folium.Map at 0x7f8334f04fd0>"
            ],
            "text/html": [
              "<div style=\"width:100%;\"><div style=\"position:relative;width:100%;height:0;padding-bottom:60%;\"><span style=\"color:#565656\">Make this Notebook Trusted to load map: File -> Trust Notebook</span><iframe srcdoc=\"&lt;!DOCTYPE html&gt;\n",
              "&lt;html&gt;\n",
              "&lt;head&gt;\n",
              "    \n",
              "    &lt;meta http-equiv=&quot;content-type&quot; content=&quot;text/html; charset=UTF-8&quot; /&gt;\n",
              "    \n",
              "        &lt;script&gt;\n",
              "            L_NO_TOUCH = false;\n",
              "            L_DISABLE_3D = false;\n",
              "        &lt;/script&gt;\n",
              "    \n",
              "    &lt;style&gt;html, body {width: 100%;height: 100%;margin: 0;padding: 0;}&lt;/style&gt;\n",
              "    &lt;style&gt;#map {position:absolute;top:0;bottom:0;right:0;left:0;}&lt;/style&gt;\n",
              "    &lt;script src=&quot;https://cdn.jsdelivr.net/npm/leaflet@1.6.0/dist/leaflet.js&quot;&gt;&lt;/script&gt;\n",
              "    &lt;script src=&quot;https://code.jquery.com/jquery-1.12.4.min.js&quot;&gt;&lt;/script&gt;\n",
              "    &lt;script src=&quot;https://maxcdn.bootstrapcdn.com/bootstrap/3.2.0/js/bootstrap.min.js&quot;&gt;&lt;/script&gt;\n",
              "    &lt;script src=&quot;https://cdnjs.cloudflare.com/ajax/libs/Leaflet.awesome-markers/2.0.2/leaflet.awesome-markers.js&quot;&gt;&lt;/script&gt;\n",
              "    &lt;link rel=&quot;stylesheet&quot; href=&quot;https://cdn.jsdelivr.net/npm/leaflet@1.6.0/dist/leaflet.css&quot;/&gt;\n",
              "    &lt;link rel=&quot;stylesheet&quot; href=&quot;https://maxcdn.bootstrapcdn.com/bootstrap/3.2.0/css/bootstrap.min.css&quot;/&gt;\n",
              "    &lt;link rel=&quot;stylesheet&quot; href=&quot;https://maxcdn.bootstrapcdn.com/bootstrap/3.2.0/css/bootstrap-theme.min.css&quot;/&gt;\n",
              "    &lt;link rel=&quot;stylesheet&quot; href=&quot;https://maxcdn.bootstrapcdn.com/font-awesome/4.6.3/css/font-awesome.min.css&quot;/&gt;\n",
              "    &lt;link rel=&quot;stylesheet&quot; href=&quot;https://cdnjs.cloudflare.com/ajax/libs/Leaflet.awesome-markers/2.0.2/leaflet.awesome-markers.css&quot;/&gt;\n",
              "    &lt;link rel=&quot;stylesheet&quot; href=&quot;https://cdn.jsdelivr.net/gh/python-visualization/folium/folium/templates/leaflet.awesome.rotate.min.css&quot;/&gt;\n",
              "    \n",
              "            &lt;meta name=&quot;viewport&quot; content=&quot;width=device-width,\n",
              "                initial-scale=1.0, maximum-scale=1.0, user-scalable=no&quot; /&gt;\n",
              "            &lt;style&gt;\n",
              "                #map_9c63fc669b834f6d00f870cc0520c879 {\n",
              "                    position: relative;\n",
              "                    width: 100.0%;\n",
              "                    height: 100.0%;\n",
              "                    left: 0.0%;\n",
              "                    top: 0.0%;\n",
              "                }\n",
              "            &lt;/style&gt;\n",
              "        \n",
              "&lt;/head&gt;\n",
              "&lt;body&gt;\n",
              "    \n",
              "    \n",
              "            &lt;div class=&quot;folium-map&quot; id=&quot;map_9c63fc669b834f6d00f870cc0520c879&quot; &gt;&lt;/div&gt;\n",
              "        \n",
              "&lt;/body&gt;\n",
              "&lt;script&gt;\n",
              "    \n",
              "    \n",
              "            var map_9c63fc669b834f6d00f870cc0520c879 = L.map(\n",
              "                &quot;map_9c63fc669b834f6d00f870cc0520c879&quot;,\n",
              "                {\n",
              "                    center: [39.926797641179, 116.37349999999988],\n",
              "                    crs: L.CRS.EPSG3857,\n",
              "                    zoom: 2,\n",
              "                    zoomControl: true,\n",
              "                    preferCanvas: false,\n",
              "                }\n",
              "            );\n",
              "\n",
              "            \n",
              "\n",
              "        \n",
              "    \n",
              "            var tile_layer_a2086336c9bb1e5e2bb040ef28ab75c0 = L.tileLayer(\n",
              "                &quot;https://{s}.tile.openstreetmap.org/{z}/{x}/{y}.png&quot;,\n",
              "                {&quot;attribution&quot;: &quot;Data by \\u0026copy; \\u003ca href=\\&quot;http://openstreetmap.org\\&quot;\\u003eOpenStreetMap\\u003c/a\\u003e, under \\u003ca href=\\&quot;http://www.openstreetmap.org/copyright\\&quot;\\u003eODbL\\u003c/a\\u003e.&quot;, &quot;detectRetina&quot;: false, &quot;maxNativeZoom&quot;: 18, &quot;maxZoom&quot;: 18, &quot;minZoom&quot;: 0, &quot;noWrap&quot;: false, &quot;opacity&quot;: 1, &quot;subdomains&quot;: &quot;abc&quot;, &quot;tms&quot;: false}\n",
              "            ).addTo(map_9c63fc669b834f6d00f870cc0520c879);\n",
              "        \n",
              "    \n",
              "\n",
              "        function geo_json_70328d6f63267975fce8042cd47ed2fa_onEachFeature(feature, layer) {\n",
              "            layer.on({\n",
              "            });\n",
              "        };\n",
              "        var geo_json_70328d6f63267975fce8042cd47ed2fa = L.geoJson(null, {\n",
              "                onEachFeature: geo_json_70328d6f63267975fce8042cd47ed2fa_onEachFeature,\n",
              "            \n",
              "        });\n",
              "\n",
              "        function geo_json_70328d6f63267975fce8042cd47ed2fa_add (data) {\n",
              "            geo_json_70328d6f63267975fce8042cd47ed2fa\n",
              "                .addData(data)\n",
              "                .addTo(map_9c63fc669b834f6d00f870cc0520c879);\n",
              "        }\n",
              "            geo_json_70328d6f63267975fce8042cd47ed2fa_add({&quot;columns&quot;: {&quot;random&quot;: &quot;\\u003cany\\u003e&quot;}, &quot;features&quot;: [{&quot;geometry&quot;: {&quot;coordinates&quot;: [-111.81155169955282, 41.7442171796279], &quot;geodesic&quot;: false, &quot;type&quot;: &quot;Point&quot;}, &quot;id&quot;: &quot;00000000000000000061_0&quot;, &quot;properties&quot;: {&quot;gbifID&quot;: 1986988220, &quot;random&quot;: 0.0024495387607350594, &quot;species&quot;: &quot;Cedrus atlantica&quot;, &quot;stateProvince&quot;: 1, &quot;year&quot;: 2012}, &quot;type&quot;: &quot;Feature&quot;}, {&quot;geometry&quot;: {&quot;coordinates&quot;: [-121.83971471076428, 39.732529932370646], &quot;geodesic&quot;: false, &quot;type&quot;: &quot;Point&quot;}, &quot;id&quot;: &quot;00000000000000000063_0&quot;, &quot;properties&quot;: {&quot;gbifID&quot;: 2418044120, &quot;random&quot;: 0.012454261505945752, &quot;species&quot;: &quot;Cedrus libani&quot;, &quot;stateProvince&quot;: 1, &quot;year&quot;: 2012}, &quot;type&quot;: &quot;Feature&quot;}, {&quot;geometry&quot;: {&quot;coordinates&quot;: [-73.77284015115374, 40.779696059068776], &quot;geodesic&quot;: false, &quot;type&quot;: &quot;Point&quot;}, &quot;id&quot;: &quot;000000000000000000b1_0&quot;, &quot;properties&quot;: {&quot;gbifID&quot;: 3051349256, &quot;random&quot;: 0.024491074927743717, &quot;species&quot;: &quot;Cedrus libani&quot;, &quot;stateProvince&quot;: 1, &quot;year&quot;: 2005}, &quot;type&quot;: &quot;Feature&quot;}, {&quot;geometry&quot;: {&quot;coordinates&quot;: [-73.90947390586832, 40.88399046355505], &quot;geodesic&quot;: false, &quot;type&quot;: &quot;Point&quot;}, &quot;id&quot;: &quot;000000000000000000c9_0&quot;, &quot;properties&quot;: {&quot;gbifID&quot;: 3050897873, &quot;random&quot;: 0.02598096799817673, &quot;species&quot;: &quot;Cedrus libani&quot;, &quot;stateProvince&quot;: 1, &quot;year&quot;: 2005}, &quot;type&quot;: &quot;Feature&quot;}, {&quot;geometry&quot;: {&quot;coordinates&quot;: [-73.86204285886681, 40.569400451056396], &quot;geodesic&quot;: false, &quot;type&quot;: &quot;Point&quot;}, &quot;id&quot;: &quot;000000000000000000aa_0&quot;, &quot;properties&quot;: {&quot;gbifID&quot;: 3051053537, &quot;random&quot;: 0.02614458968850364, &quot;species&quot;: &quot;Cedrus libani&quot;, &quot;stateProvince&quot;: 1, &quot;year&quot;: 2005}, &quot;type&quot;: &quot;Feature&quot;}, {&quot;geometry&quot;: {&quot;coordinates&quot;: [-74.06712823823129, 40.61269924775095], &quot;geodesic&quot;: false, &quot;type&quot;: &quot;Point&quot;}, &quot;id&quot;: &quot;00000000000000000013_0&quot;, &quot;properties&quot;: {&quot;gbifID&quot;: 3393462383, &quot;random&quot;: 0.03118797811133933, &quot;species&quot;: &quot;Cedrus deodara&quot;, &quot;stateProvince&quot;: 1, &quot;year&quot;: 2015}, &quot;type&quot;: &quot;Feature&quot;}, {&quot;geometry&quot;: {&quot;coordinates&quot;: [-81.02017836884481, 34.00091909357445], &quot;geodesic&quot;: false, &quot;type&quot;: &quot;Point&quot;}, &quot;id&quot;: &quot;0000000000000000005f_0&quot;, &quot;properties&quot;: {&quot;gbifID&quot;: 1849192497, &quot;random&quot;: 0.05149847732431878, &quot;species&quot;: &quot;Cedrus deodara&quot;, &quot;stateProvince&quot;: 1, &quot;year&quot;: 2014}, &quot;type&quot;: &quot;Feature&quot;}, {&quot;geometry&quot;: {&quot;coordinates&quot;: [-72.37712769421724, 41.30278504901157], &quot;geodesic&quot;: false, &quot;type&quot;: &quot;Point&quot;}, &quot;id&quot;: &quot;0000000000000000006e_0&quot;, &quot;properties&quot;: {&quot;gbifID&quot;: 1457810057, &quot;random&quot;: 0.06286595673326456, &quot;species&quot;: &quot;Cedrus libani&quot;, &quot;stateProvince&quot;: 1, &quot;year&quot;: 2010}, &quot;type&quot;: &quot;Feature&quot;}, {&quot;geometry&quot;: {&quot;coordinates&quot;: [-74.1303696342333, 40.62177223212056], &quot;geodesic&quot;: false, &quot;type&quot;: &quot;Point&quot;}, &quot;id&quot;: &quot;0000000000000000008a_0&quot;, &quot;properties&quot;: {&quot;gbifID&quot;: 3051100358, &quot;random&quot;: 0.08031663592477944, &quot;species&quot;: &quot;Cedrus deodara&quot;, &quot;stateProvince&quot;: 1, &quot;year&quot;: 2006}, &quot;type&quot;: &quot;Feature&quot;}, {&quot;geometry&quot;: {&quot;coordinates&quot;: [-73.91854689023792, 40.7092681407938], &quot;geodesic&quot;: false, &quot;type&quot;: &quot;Point&quot;}, &quot;id&quot;: &quot;00000000000000000111_0&quot;, &quot;properties&quot;: {&quot;gbifID&quot;: 3051027246, &quot;random&quot;: 0.08060324061956559, &quot;species&quot;: &quot;Cedrus libani&quot;, &quot;stateProvince&quot;: 1, &quot;year&quot;: 2005}, &quot;type&quot;: &quot;Feature&quot;}, {&quot;geometry&quot;: {&quot;coordinates&quot;: [-73.86024622829856, 40.85317824930975], &quot;geodesic&quot;: false, &quot;type&quot;: &quot;Point&quot;}, &quot;id&quot;: &quot;0000000000000000008b_0&quot;, &quot;properties&quot;: {&quot;gbifID&quot;: 3051160099, &quot;random&quot;: 0.08359331731008668, &quot;species&quot;: &quot;Cedrus libani&quot;, &quot;stateProvince&quot;: 1, &quot;year&quot;: 2006}, &quot;type&quot;: &quot;Feature&quot;}, {&quot;geometry&quot;: {&quot;coordinates&quot;: [-73.95537781688682, 40.62329936810357], &quot;geodesic&quot;: false, &quot;type&quot;: &quot;Point&quot;}, &quot;id&quot;: &quot;00000000000000000018_0&quot;, &quot;properties&quot;: {&quot;gbifID&quot;: 3393837420, &quot;random&quot;: 0.0891099220196715, &quot;species&quot;: &quot;Cedrus atlantica&quot;, &quot;stateProvince&quot;: 1, &quot;year&quot;: 2015}, &quot;type&quot;: &quot;Feature&quot;}, {&quot;geometry&quot;: {&quot;coordinates&quot;: [-73.88872282280516, 40.66668799632654], &quot;geodesic&quot;: false, &quot;type&quot;: &quot;Point&quot;}, &quot;id&quot;: &quot;0000000000000000003b_0&quot;, &quot;properties&quot;: {&quot;gbifID&quot;: 3393911371, &quot;random&quot;: 0.09012630419801759, &quot;species&quot;: &quot;Cedrus atlantica&quot;, &quot;stateProvince&quot;: 1, &quot;year&quot;: 2015}, &quot;type&quot;: &quot;Feature&quot;}, {&quot;geometry&quot;: {&quot;coordinates&quot;: [-73.84946644488913, 40.73972102892545], &quot;geodesic&quot;: false, &quot;type&quot;: &quot;Point&quot;}, &quot;id&quot;: &quot;0000000000000000000e_0&quot;, &quot;properties&quot;: {&quot;gbifID&quot;: 3393435695, &quot;random&quot;: 0.09351054359654642, &quot;species&quot;: &quot;Cedrus deodara&quot;, &quot;stateProvince&quot;: 1, &quot;year&quot;: 2015}, &quot;type&quot;: &quot;Feature&quot;}, {&quot;geometry&quot;: {&quot;coordinates&quot;: [-73.94343022360803, 40.66677782785495], &quot;geodesic&quot;: false, &quot;type&quot;: &quot;Point&quot;}, &quot;id&quot;: &quot;000000000000000000d2_0&quot;, &quot;properties&quot;: {&quot;gbifID&quot;: 3050907132, &quot;random&quot;: 0.09469779223847075, &quot;species&quot;: &quot;Cedrus libani&quot;, &quot;stateProvince&quot;: 1, &quot;year&quot;: 2005}, &quot;type&quot;: &quot;Feature&quot;}, {&quot;geometry&quot;: {&quot;coordinates&quot;: [-121.79911085992208, 39.75426916224634], &quot;geodesic&quot;: false, &quot;type&quot;: &quot;Point&quot;}, &quot;id&quot;: &quot;00000000000000000064_0&quot;, &quot;properties&quot;: {&quot;gbifID&quot;: 3059695246, &quot;random&quot;: 0.09688985269786454, &quot;species&quot;: &quot;Cedrus deodara&quot;, &quot;stateProvince&quot;: 1, &quot;year&quot;: 2012}, &quot;type&quot;: &quot;Feature&quot;}, {&quot;geometry&quot;: {&quot;coordinates&quot;: [-73.86069538594063, 40.66794563772431], &quot;geodesic&quot;: false, &quot;type&quot;: &quot;Point&quot;}, &quot;id&quot;: &quot;00000000000000000037_0&quot;, &quot;properties&quot;: {&quot;gbifID&quot;: 3393921393, &quot;random&quot;: 0.09846017199400736, &quot;species&quot;: &quot;Cedrus deodara&quot;, &quot;stateProvince&quot;: 1, &quot;year&quot;: 2015}, &quot;type&quot;: &quot;Feature&quot;}, {&quot;geometry&quot;: {&quot;coordinates&quot;: [-80.72966320596055, 33.69064099443957], &quot;geodesic&quot;: false, &quot;type&quot;: &quot;Point&quot;}, &quot;id&quot;: &quot;0000000000000000007a_0&quot;, &quot;properties&quot;: {&quot;gbifID&quot;: 2866749483, &quot;random&quot;: 0.10007802544877109, &quot;species&quot;: &quot;Cedrus deodara&quot;, &quot;stateProvince&quot;: 1, &quot;year&quot;: 2007}, &quot;type&quot;: &quot;Feature&quot;}, {&quot;geometry&quot;: {&quot;coordinates&quot;: [-73.92160116220393, 40.76397554159668], &quot;geodesic&quot;: false, &quot;type&quot;: &quot;Point&quot;}, &quot;id&quot;: &quot;000000000000000000b3_0&quot;, &quot;properties&quot;: {&quot;gbifID&quot;: 3051350186, &quot;random&quot;: 0.1008624802347815, &quot;species&quot;: &quot;Cedrus libani&quot;, &quot;stateProvince&quot;: 1, &quot;year&quot;: 2005}, &quot;type&quot;: &quot;Feature&quot;}, {&quot;geometry&quot;: {&quot;coordinates&quot;: [-118.81607529594638, 34.09982360635601], &quot;geodesic&quot;: false, &quot;type&quot;: &quot;Point&quot;}, &quot;id&quot;: &quot;0000000000000000006b_0&quot;, &quot;properties&quot;: {&quot;gbifID&quot;: 3425154724, &quot;random&quot;: 0.10118035406230141, &quot;species&quot;: &quot;Cedrus deodara&quot;, &quot;stateProvince&quot;: 1, &quot;year&quot;: 2011}, &quot;type&quot;: &quot;Feature&quot;}, {&quot;geometry&quot;: {&quot;coordinates&quot;: [-73.91953503705045, 40.62401802033086], &quot;geodesic&quot;: false, &quot;type&quot;: &quot;Point&quot;}, &quot;id&quot;: &quot;000000000000000000dc_0&quot;, &quot;properties&quot;: {&quot;gbifID&quot;: 3050952697, &quot;random&quot;: 0.11074195005218568, &quot;species&quot;: &quot;Cedrus libani&quot;, &quot;stateProvince&quot;: 1, &quot;year&quot;: 2005}, &quot;type&quot;: &quot;Feature&quot;}, {&quot;geometry&quot;: {&quot;coordinates&quot;: [-74.11716439955676, 40.6153043620749], &quot;geodesic&quot;: false, &quot;type&quot;: &quot;Point&quot;}, &quot;id&quot;: &quot;000000000000000000bc_0&quot;, &quot;properties&quot;: {&quot;gbifID&quot;: 3051390793, &quot;random&quot;: 0.1116411847490526, &quot;species&quot;: &quot;Cedrus libani&quot;, &quot;stateProvince&quot;: 1, &quot;year&quot;: 2005}, &quot;type&quot;: &quot;Feature&quot;}, {&quot;geometry&quot;: {&quot;coordinates&quot;: [-73.84344773248553, 40.64979966898509], &quot;geodesic&quot;: false, &quot;type&quot;: &quot;Point&quot;}, &quot;id&quot;: &quot;00000000000000000027_0&quot;, &quot;properties&quot;: {&quot;gbifID&quot;: 3393540349, &quot;random&quot;: 0.11242275777586641, &quot;species&quot;: &quot;Cedrus atlantica&quot;, &quot;stateProvince&quot;: 1, &quot;year&quot;: 2015}, &quot;type&quot;: &quot;Feature&quot;}, {&quot;geometry&quot;: {&quot;coordinates&quot;: [-74.21265531425865, 40.52628131741866], &quot;geodesic&quot;: false, &quot;type&quot;: &quot;Point&quot;}, &quot;id&quot;: &quot;000000000000000000b7_0&quot;, &quot;properties&quot;: {&quot;gbifID&quot;: 3051087665, &quot;random&quot;: 0.11709108772377308, &quot;species&quot;: &quot;Cedrus libani&quot;, &quot;stateProvince&quot;: 1, &quot;year&quot;: 2005}, &quot;type&quot;: &quot;Feature&quot;}, {&quot;geometry&quot;: {&quot;coordinates&quot;: [-73.88423124638456, 40.66776597466748], &quot;geodesic&quot;: false, &quot;type&quot;: &quot;Point&quot;}, &quot;id&quot;: &quot;0000000000000000003f_0&quot;, &quot;properties&quot;: {&quot;gbifID&quot;: 3393583530, &quot;random&quot;: 0.11831082141846061, &quot;species&quot;: &quot;Cedrus atlantica&quot;, &quot;stateProvince&quot;: 1, &quot;year&quot;: 2015}, &quot;type&quot;: &quot;Feature&quot;}, {&quot;geometry&quot;: {&quot;coordinates&quot;: [-120.8305473205844, 38.68805875152488], &quot;geodesic&quot;: false, &quot;type&quot;: &quot;Point&quot;}, &quot;id&quot;: &quot;00000000000000000077_0&quot;, &quot;properties&quot;: {&quot;gbifID&quot;: 2421780224, &quot;random&quot;: 0.12841061761710537, &quot;species&quot;: &quot;Cedrus deodara&quot;, &quot;stateProvince&quot;: 1, &quot;year&quot;: 2007}, &quot;type&quot;: &quot;Feature&quot;}, {&quot;geometry&quot;: {&quot;coordinates&quot;: [-73.93318942936908, 40.62545532478545], &quot;geodesic&quot;: false, &quot;type&quot;: &quot;Point&quot;}, &quot;id&quot;: &quot;000000000000000000f1_0&quot;, &quot;properties&quot;: {&quot;gbifID&quot;: 3050971011, &quot;random&quot;: 0.137157238719532, &quot;species&quot;: &quot;Cedrus libani&quot;, &quot;stateProvince&quot;: 1, &quot;year&quot;: 2005}, &quot;type&quot;: &quot;Feature&quot;}, {&quot;geometry&quot;: {&quot;coordinates&quot;: [-74.14195790139846, 40.608207671330355], &quot;geodesic&quot;: false, &quot;type&quot;: &quot;Point&quot;}, &quot;id&quot;: &quot;00000000000000000044_0&quot;, &quot;properties&quot;: {&quot;gbifID&quot;: 3393595957, &quot;random&quot;: 0.1482402343009439, &quot;species&quot;: &quot;Cedrus atlantica&quot;, &quot;stateProvince&quot;: 1, &quot;year&quot;: 2015}, &quot;type&quot;: &quot;Feature&quot;}, {&quot;geometry&quot;: {&quot;coordinates&quot;: [-74.14061042847227, 40.63354016234253], &quot;geodesic&quot;: false, &quot;type&quot;: &quot;Point&quot;}, &quot;id&quot;: &quot;00000000000000000041_0&quot;, &quot;properties&quot;: {&quot;gbifID&quot;: 3393580643, &quot;random&quot;: 0.15225623157848522, &quot;species&quot;: &quot;Cedrus deodara&quot;, &quot;stateProvince&quot;: 1, &quot;year&quot;: 2015}, &quot;type&quot;: &quot;Feature&quot;}, {&quot;geometry&quot;: {&quot;coordinates&quot;: [-73.88090747983331, 40.72292253311242], &quot;geodesic&quot;: false, &quot;type&quot;: &quot;Point&quot;}, &quot;id&quot;: &quot;0000000000000000010a_0&quot;, &quot;properties&quot;: {&quot;gbifID&quot;: 3051029500, &quot;random&quot;: 0.15736675386379118, &quot;species&quot;: &quot;Cedrus libani&quot;, &quot;stateProvince&quot;: 1, &quot;year&quot;: 2005}, &quot;type&quot;: &quot;Feature&quot;}, {&quot;geometry&quot;: {&quot;coordinates&quot;: [-73.925104591812, 40.650428489683975], &quot;geodesic&quot;: false, &quot;type&quot;: &quot;Point&quot;}, &quot;id&quot;: &quot;000000000000000000d9_0&quot;, &quot;properties&quot;: {&quot;gbifID&quot;: 3051223517, &quot;random&quot;: 0.15880813437327046, &quot;species&quot;: &quot;Cedrus libani&quot;, &quot;stateProvince&quot;: 1, &quot;year&quot;: 2005}, &quot;type&quot;: &quot;Feature&quot;}, {&quot;geometry&quot;: {&quot;coordinates&quot;: [-73.96606776876784, 40.75633986168167], &quot;geodesic&quot;: false, &quot;type&quot;: &quot;Point&quot;}, &quot;id&quot;: &quot;000000000000000000c7_0&quot;, &quot;properties&quot;: {&quot;gbifID&quot;: 3051148924, &quot;random&quot;: 0.16061111442680998, &quot;species&quot;: &quot;Cedrus libani&quot;, &quot;stateProvince&quot;: 1, &quot;year&quot;: 2005}, &quot;type&quot;: &quot;Feature&quot;}, {&quot;geometry&quot;: {&quot;coordinates&quot;: [-73.89007029573133, 40.74448209993129], &quot;geodesic&quot;: false, &quot;type&quot;: &quot;Point&quot;}, &quot;id&quot;: &quot;000000000000000000a2_0&quot;, &quot;properties&quot;: {&quot;gbifID&quot;: 3051331173, &quot;random&quot;: 0.1632379878682555, &quot;species&quot;: &quot;Cedrus libani&quot;, &quot;stateProvince&quot;: 1, &quot;year&quot;: 2005}, &quot;type&quot;: &quot;Feature&quot;}, {&quot;geometry&quot;: {&quot;coordinates&quot;: [-73.90462300333408, 40.71690382070882], &quot;geodesic&quot;: false, &quot;type&quot;: &quot;Point&quot;}, &quot;id&quot;: &quot;0000000000000000005b_0&quot;, &quot;properties&quot;: {&quot;gbifID&quot;: 3393941814, &quot;random&quot;: 0.17170612551877174, &quot;species&quot;: &quot;Cedrus deodara&quot;, &quot;stateProvince&quot;: 1, &quot;year&quot;: 2015}, &quot;type&quot;: &quot;Feature&quot;}, {&quot;geometry&quot;: {&quot;coordinates&quot;: [-73.98044081331376, 40.61611284583061], &quot;geodesic&quot;: false, &quot;type&quot;: &quot;Point&quot;}, &quot;id&quot;: &quot;000000000000000000f2_0&quot;, &quot;properties&quot;: {&quot;gbifID&quot;: 3051253183, &quot;random&quot;: 0.18484413889648055, &quot;species&quot;: &quot;Cedrus libani&quot;, &quot;stateProvince&quot;: 1, &quot;year&quot;: 2005}, &quot;type&quot;: &quot;Feature&quot;}, {&quot;geometry&quot;: {&quot;coordinates&quot;: [-73.79943028356368, 40.731456528311554], &quot;geodesic&quot;: false, &quot;type&quot;: &quot;Point&quot;}, &quot;id&quot;: &quot;00000000000000000105_0&quot;, &quot;properties&quot;: {&quot;gbifID&quot;: 3051292500, &quot;random&quot;: 0.18749374135941788, &quot;species&quot;: &quot;Cedrus libani&quot;, &quot;stateProvince&quot;: 1, &quot;year&quot;: 2005}, &quot;type&quot;: &quot;Feature&quot;}, {&quot;geometry&quot;: {&quot;coordinates&quot;: [-73.78227246163699, 40.7130410649871], &quot;geodesic&quot;: false, &quot;type&quot;: &quot;Point&quot;}, &quot;id&quot;: &quot;0000000000000000010b_0&quot;, &quot;properties&quot;: {&quot;gbifID&quot;: 3051030512, &quot;random&quot;: 0.18760221633327, &quot;species&quot;: &quot;Cedrus libani&quot;, &quot;stateProvince&quot;: 1, &quot;year&quot;: 2005}, &quot;type&quot;: &quot;Feature&quot;}, {&quot;geometry&quot;: {&quot;coordinates&quot;: [-73.77805037980163, 40.775563808761824], &quot;geodesic&quot;: false, &quot;type&quot;: &quot;Point&quot;}, &quot;id&quot;: &quot;00000000000000000108_0&quot;, &quot;properties&quot;: {&quot;gbifID&quot;: 3051301340, &quot;random&quot;: 0.19205235185736702, &quot;species&quot;: &quot;Cedrus libani&quot;, &quot;stateProvince&quot;: 1, &quot;year&quot;: 2005}, &quot;type&quot;: &quot;Feature&quot;}, {&quot;geometry&quot;: {&quot;coordinates&quot;: [-95.24302459925237, 38.958361820516444], &quot;geodesic&quot;: false, &quot;type&quot;: &quot;Point&quot;}, &quot;id&quot;: &quot;00000000000000000072_0&quot;, &quot;properties&quot;: {&quot;gbifID&quot;: 240494326, &quot;random&quot;: 0.20379942875311896, &quot;species&quot;: &quot;Cedrus atlantica&quot;, &quot;stateProvince&quot;: 1, &quot;year&quot;: 2008}, &quot;type&quot;: &quot;Feature&quot;}, {&quot;geometry&quot;: {&quot;coordinates&quot;: [-73.86339033179298, 40.57164623926669], &quot;geodesic&quot;: false, &quot;type&quot;: &quot;Point&quot;}, &quot;id&quot;: &quot;000000000000000000a4_0&quot;, &quot;properties&quot;: {&quot;gbifID&quot;: 3051338418, &quot;random&quot;: 0.2066260676975069, &quot;species&quot;: &quot;Cedrus libani&quot;, &quot;stateProvince&quot;: 1, &quot;year&quot;: 2005}, &quot;type&quot;: &quot;Feature&quot;}, {&quot;geometry&quot;: {&quot;coordinates&quot;: [-116.90976043151635, 33.30220946558629], &quot;geodesic&quot;: false, &quot;type&quot;: &quot;Point&quot;}, &quot;id&quot;: &quot;0000000000000000009c_0&quot;, &quot;properties&quot;: {&quot;gbifID&quot;: 2422418881, &quot;random&quot;: 0.21669637271223463, &quot;species&quot;: &quot;Cedrus deodara&quot;, &quot;stateProvince&quot;: 1, &quot;year&quot;: 2005}, &quot;type&quot;: &quot;Feature&quot;}, {&quot;geometry&quot;: {&quot;coordinates&quot;: [-73.84740031973566, 40.6543810769341], &quot;geodesic&quot;: false, &quot;type&quot;: &quot;Point&quot;}, &quot;id&quot;: &quot;000000000000000000ad_0&quot;, &quot;properties&quot;: {&quot;gbifID&quot;: 3051062754, &quot;random&quot;: 0.22496240656188526, &quot;species&quot;: &quot;Cedrus libani&quot;, &quot;stateProvince&quot;: 1, &quot;year&quot;: 2005}, &quot;type&quot;: &quot;Feature&quot;}, {&quot;geometry&quot;: {&quot;coordinates&quot;: [-73.85153257004261, 40.715736010839464], &quot;geodesic&quot;: false, &quot;type&quot;: &quot;Point&quot;}, &quot;id&quot;: &quot;000000000000000000fc_0&quot;, &quot;properties&quot;: {&quot;gbifID&quot;: 3051003454, &quot;random&quot;: 0.22589261933291926, &quot;species&quot;: &quot;Cedrus libani&quot;, &quot;stateProvince&quot;: 1, &quot;year&quot;: 2005}, &quot;type&quot;: &quot;Feature&quot;}, {&quot;geometry&quot;: {&quot;coordinates&quot;: [-82.82067169280556, 34.6724995999822], &quot;geodesic&quot;: false, &quot;type&quot;: &quot;Point&quot;}, &quot;id&quot;: &quot;00000000000000000062_0&quot;, &quot;properties&quot;: {&quot;gbifID&quot;: 3344474486, &quot;random&quot;: 0.24216141682234205, &quot;species&quot;: &quot;Cedrus atlantica&quot;, &quot;stateProvince&quot;: 1, &quot;year&quot;: 2012}, &quot;type&quot;: &quot;Feature&quot;}, {&quot;geometry&quot;: {&quot;coordinates&quot;: [-74.13153744410266, 40.57353270136334], &quot;geodesic&quot;: false, &quot;type&quot;: &quot;Point&quot;}, &quot;id&quot;: &quot;00000000000000000014_0&quot;, &quot;properties&quot;: {&quot;gbifID&quot;: 3393459105, &quot;random&quot;: 0.2461739409707513, &quot;species&quot;: &quot;Cedrus deodara&quot;, &quot;stateProvince&quot;: 1, &quot;year&quot;: 2015}, &quot;type&quot;: &quot;Feature&quot;}, {&quot;geometry&quot;: {&quot;coordinates&quot;: [-73.81344400199595, 40.78050454282448], &quot;geodesic&quot;: false, &quot;type&quot;: &quot;Point&quot;}, &quot;id&quot;: &quot;00000000000000000109_0&quot;, &quot;properties&quot;: {&quot;gbifID&quot;: 3051024346, &quot;random&quot;: 0.26449210674926227, &quot;species&quot;: &quot;Cedrus libani&quot;, &quot;stateProvince&quot;: 1, &quot;year&quot;: 2005}, &quot;type&quot;: &quot;Feature&quot;}, {&quot;geometry&quot;: {&quot;coordinates&quot;: [-74.10153371361308, 40.62788077605257], &quot;geodesic&quot;: false, &quot;type&quot;: &quot;Point&quot;}, &quot;id&quot;: &quot;00000000000000000003_0&quot;, &quot;properties&quot;: {&quot;gbifID&quot;: 3393706714, &quot;random&quot;: 0.2862690978205279, &quot;species&quot;: &quot;Cedrus atlantica&quot;, &quot;stateProvince&quot;: 1, &quot;year&quot;: 2015}, &quot;type&quot;: &quot;Feature&quot;}, {&quot;geometry&quot;: {&quot;coordinates&quot;: [-74.1633378051605, 40.53005424161196], &quot;geodesic&quot;: false, &quot;type&quot;: &quot;Point&quot;}, &quot;id&quot;: &quot;000000000000000000b8_0&quot;, &quot;properties&quot;: {&quot;gbifID&quot;: 3051383467, &quot;random&quot;: 0.318607192646141, &quot;species&quot;: &quot;Cedrus libani&quot;, &quot;stateProvince&quot;: 1, &quot;year&quot;: 2005}, &quot;type&quot;: &quot;Feature&quot;}, {&quot;geometry&quot;: {&quot;coordinates&quot;: [-104.96144850049942, 39.732170606257], &quot;geodesic&quot;: false, &quot;type&quot;: &quot;Point&quot;}, &quot;id&quot;: &quot;00000000000000000073_0&quot;, &quot;properties&quot;: {&quot;gbifID&quot;: 2242395107, &quot;random&quot;: 0.3230120640419434, &quot;species&quot;: &quot;Cedrus atlantica&quot;, &quot;stateProvince&quot;: 1, &quot;year&quot;: 2008}, &quot;type&quot;: &quot;Feature&quot;}, {&quot;geometry&quot;: {&quot;coordinates&quot;: [-73.89833479634524, 40.64737421771797], &quot;geodesic&quot;: false, &quot;type&quot;: &quot;Point&quot;}, &quot;id&quot;: &quot;00000000000000000090_0&quot;, &quot;properties&quot;: {&quot;gbifID&quot;: 3051224039, &quot;random&quot;: 0.32438217966848637, &quot;species&quot;: &quot;Cedrus libani&quot;, &quot;stateProvince&quot;: 1, &quot;year&quot;: 2006}, &quot;type&quot;: &quot;Feature&quot;}, {&quot;geometry&quot;: {&quot;coordinates&quot;: [-73.95313202867652, 40.66552018645718], &quot;geodesic&quot;: false, &quot;type&quot;: &quot;Point&quot;}, &quot;id&quot;: &quot;00000000000000000091_0&quot;, &quot;properties&quot;: {&quot;gbifID&quot;: 3051235998, &quot;random&quot;: 0.325774062778053, &quot;species&quot;: &quot;Cedrus libani&quot;, &quot;stateProvince&quot;: 1, &quot;year&quot;: 2006}, &quot;type&quot;: &quot;Feature&quot;}, {&quot;geometry&quot;: {&quot;coordinates&quot;: [-74.13063912881854, 40.56472921157897], &quot;geodesic&quot;: false, &quot;type&quot;: &quot;Point&quot;}, &quot;id&quot;: &quot;00000000000000000015_0&quot;, &quot;properties&quot;: {&quot;gbifID&quot;: 3393804323, &quot;random&quot;: 0.3348730694467995, &quot;species&quot;: &quot;Cedrus deodara&quot;, &quot;stateProvince&quot;: 1, &quot;year&quot;: 2015}, &quot;type&quot;: &quot;Feature&quot;}, {&quot;geometry&quot;: {&quot;coordinates&quot;: [-121.8053092353825, 39.746633482331326], &quot;geodesic&quot;: false, &quot;type&quot;: &quot;Point&quot;}, &quot;id&quot;: &quot;00000000000000000068_0&quot;, &quot;properties&quot;: {&quot;gbifID&quot;: 2418037475, &quot;random&quot;: 0.33889438270573546, &quot;species&quot;: &quot;Cedrus deodara&quot;, &quot;stateProvince&quot;: 1, &quot;year&quot;: 2012}, &quot;type&quot;: &quot;Feature&quot;}, {&quot;geometry&quot;: {&quot;coordinates&quot;: [-73.91639093355604, 40.62761128146734], &quot;geodesic&quot;: false, &quot;type&quot;: &quot;Point&quot;}, &quot;id&quot;: &quot;00000000000000000053_0&quot;, &quot;properties&quot;: {&quot;gbifID&quot;: 3393609512, &quot;random&quot;: 0.3440403313868218, &quot;species&quot;: &quot;Cedrus deodara&quot;, &quot;stateProvince&quot;: 1, &quot;year&quot;: 2015}, &quot;type&quot;: &quot;Feature&quot;}, {&quot;geometry&quot;: {&quot;coordinates&quot;: [-73.84443587929806, 40.654201413877274], &quot;geodesic&quot;: false, &quot;type&quot;: &quot;Point&quot;}, &quot;id&quot;: &quot;000000000000000000ae_0&quot;, &quot;properties&quot;: {&quot;gbifID&quot;: 3051060821, &quot;random&quot;: 0.35393502426762224, &quot;species&quot;: &quot;Cedrus libani&quot;, &quot;stateProvince&quot;: 1, &quot;year&quot;: 2005}, &quot;type&quot;: &quot;Feature&quot;}, {&quot;geometry&quot;: {&quot;coordinates&quot;: [-73.78388942914842, 40.788499548853146], &quot;geodesic&quot;: false, &quot;type&quot;: &quot;Point&quot;}, &quot;id&quot;: &quot;0000000000000000010f_0&quot;, &quot;properties&quot;: {&quot;gbifID&quot;: 3051032602, &quot;random&quot;: 0.36734507981415065, &quot;species&quot;: &quot;Cedrus libani&quot;, &quot;stateProvince&quot;: 1, &quot;year&quot;: 2005}, &quot;type&quot;: &quot;Feature&quot;}, {&quot;geometry&quot;: {&quot;coordinates&quot;: [-110.82798629497036, 33.28325501309136], &quot;geodesic&quot;: false, &quot;type&quot;: &quot;Point&quot;}, &quot;id&quot;: &quot;0000000000000000007f_0&quot;, &quot;properties&quot;: {&quot;gbifID&quot;: 2270685452, &quot;random&quot;: 0.3773580403085762, &quot;species&quot;: &quot;Cedrus libani&quot;, &quot;stateProvince&quot;: 1, &quot;year&quot;: 2006}, &quot;type&quot;: &quot;Feature&quot;}, {&quot;geometry&quot;: {&quot;coordinates&quot;: [-73.91872655329475, 40.69669172681613], &quot;geodesic&quot;: false, &quot;type&quot;: &quot;Point&quot;}, &quot;id&quot;: &quot;00000000000000000047_0&quot;, &quot;properties&quot;: {&quot;gbifID&quot;: 3393920521, &quot;random&quot;: 0.38274853963144717, &quot;species&quot;: &quot;Cedrus deodara&quot;, &quot;stateProvince&quot;: 1, &quot;year&quot;: 2015}, &quot;type&quot;: &quot;Feature&quot;}, {&quot;geometry&quot;: {&quot;coordinates&quot;: [-73.90246704665219, 40.668035469252715], &quot;geodesic&quot;: false, &quot;type&quot;: &quot;Point&quot;}, &quot;id&quot;: &quot;00000000000000000040_0&quot;, &quot;properties&quot;: {&quot;gbifID&quot;: 3393571571, &quot;random&quot;: 0.3836233520896597, &quot;species&quot;: &quot;Cedrus atlantica&quot;, &quot;stateProvince&quot;: 1, &quot;year&quot;: 2015}, &quot;type&quot;: &quot;Feature&quot;}, {&quot;geometry&quot;: {&quot;coordinates&quot;: [-74.00370717917245, 40.650158995098735], &quot;geodesic&quot;: false, &quot;type&quot;: &quot;Point&quot;}, &quot;id&quot;: &quot;00000000000000000025_0&quot;, &quot;properties&quot;: {&quot;gbifID&quot;: 3393879061, &quot;random&quot;: 0.3872690909508596, &quot;species&quot;: &quot;Cedrus atlantica&quot;, &quot;stateProvince&quot;: 1, &quot;year&quot;: 2015}, &quot;type&quot;: &quot;Feature&quot;}, {&quot;geometry&quot;: {&quot;coordinates&quot;: [-73.85764111397462, 40.741966817135754], &quot;geodesic&quot;: false, &quot;type&quot;: &quot;Point&quot;}, &quot;id&quot;: &quot;00000000000000000085_0&quot;, &quot;properties&quot;: {&quot;gbifID&quot;: 3051341456, &quot;random&quot;: 0.3965572851731638, &quot;species&quot;: &quot;Cedrus libani&quot;, &quot;stateProvince&quot;: 1, &quot;year&quot;: 2006}, &quot;type&quot;: &quot;Feature&quot;}, {&quot;geometry&quot;: {&quot;coordinates&quot;: [-74.14698846698953, 40.56086645585726], &quot;geodesic&quot;: false, &quot;type&quot;: &quot;Point&quot;}, &quot;id&quot;: &quot;00000000000000000004_0&quot;, &quot;properties&quot;: {&quot;gbifID&quot;: 3393748536, &quot;random&quot;: 0.39904305352741687, &quot;species&quot;: &quot;Cedrus deodara&quot;, &quot;stateProvince&quot;: 1, &quot;year&quot;: 2015}, &quot;type&quot;: &quot;Feature&quot;}, {&quot;geometry&quot;: {&quot;coordinates&quot;: [-73.76376716678413, 40.66354389283212], &quot;geodesic&quot;: false, &quot;type&quot;: &quot;Point&quot;}, &quot;id&quot;: &quot;00000000000000000095_0&quot;, &quot;properties&quot;: {&quot;gbifID&quot;: 3051293917, &quot;random&quot;: 0.40214932632393996, &quot;species&quot;: &quot;Cedrus libani&quot;, &quot;stateProvince&quot;: 1, &quot;year&quot;: 2006}, &quot;type&quot;: &quot;Feature&quot;}, {&quot;geometry&quot;: {&quot;coordinates&quot;: [-73.89007029573133, 40.65644720208758], &quot;geodesic&quot;: false, &quot;type&quot;: &quot;Point&quot;}, &quot;id&quot;: &quot;00000000000000000032_0&quot;, &quot;properties&quot;: {&quot;gbifID&quot;: 3393892013, &quot;random&quot;: 0.41141761425967205, &quot;species&quot;: &quot;Cedrus atlantica&quot;, &quot;stateProvince&quot;: 1, &quot;year&quot;: 2015}, &quot;type&quot;: &quot;Feature&quot;}, {&quot;geometry&quot;: {&quot;coordinates&quot;: [-76.35783221273607, 40.00139569690762], &quot;geodesic&quot;: false, &quot;type&quot;: &quot;Point&quot;}, &quot;id&quot;: &quot;00000000000000000074_0&quot;, &quot;properties&quot;: {&quot;gbifID&quot;: 3331196502, &quot;random&quot;: 0.4178516205020274, &quot;species&quot;: &quot;Cedrus atlantica&quot;, &quot;stateProvince&quot;: 1, &quot;year&quot;: 2008}, &quot;type&quot;: &quot;Feature&quot;}, {&quot;geometry&quot;: {&quot;coordinates&quot;: [-73.87434977825924, 40.72462933215225], &quot;geodesic&quot;: false, &quot;type&quot;: &quot;Point&quot;}, &quot;id&quot;: &quot;00000000000000000087_0&quot;, &quot;properties&quot;: {&quot;gbifID&quot;: 3051365622, &quot;random&quot;: 0.4204835813404181, &quot;species&quot;: &quot;Cedrus libani&quot;, &quot;stateProvince&quot;: 1, &quot;year&quot;: 2006}, &quot;type&quot;: &quot;Feature&quot;}, {&quot;geometry&quot;: {&quot;coordinates&quot;: [-73.92357745582899, 40.812843893052786], &quot;geodesic&quot;: false, &quot;type&quot;: &quot;Point&quot;}, &quot;id&quot;: &quot;00000000000000000009_0&quot;, &quot;properties&quot;: {&quot;gbifID&quot;: 3393397166, &quot;random&quot;: 0.4266805390405798, &quot;species&quot;: &quot;Cedrus atlantica&quot;, &quot;stateProvince&quot;: 1, &quot;year&quot;: 2015}, &quot;type&quot;: &quot;Feature&quot;}, {&quot;geometry&quot;: {&quot;coordinates&quot;: [-73.78326060844952, 40.72157506018624], &quot;geodesic&quot;: false, &quot;type&quot;: &quot;Point&quot;}, &quot;id&quot;: &quot;00000000000000000102_0&quot;, &quot;properties&quot;: {&quot;gbifID&quot;: 3051002159, &quot;random&quot;: 0.4342339618577743, &quot;species&quot;: &quot;Cedrus libani&quot;, &quot;stateProvince&quot;: 1, &quot;year&quot;: 2005}, &quot;type&quot;: &quot;Feature&quot;}, {&quot;geometry&quot;: {&quot;coordinates&quot;: [-74.12785435143778, 40.618268802512496], &quot;geodesic&quot;: false, &quot;type&quot;: &quot;Point&quot;}, &quot;id&quot;: &quot;000000000000000000c4_0&quot;, &quot;properties&quot;: {&quot;gbifID&quot;: 3051400855, &quot;random&quot;: 0.4569821847514961, &quot;species&quot;: &quot;Cedrus libani&quot;, &quot;stateProvince&quot;: 1, &quot;year&quot;: 2005}, &quot;type&quot;: &quot;Feature&quot;}, {&quot;geometry&quot;: {&quot;coordinates&quot;: [-73.90749761224326, 40.76954509635822], &quot;geodesic&quot;: false, &quot;type&quot;: &quot;Point&quot;}, &quot;id&quot;: &quot;00000000000000000099_0&quot;, &quot;properties&quot;: {&quot;gbifID&quot;: 3051044374, &quot;random&quot;: 0.4610569309101811, &quot;species&quot;: &quot;Cedrus libani&quot;, &quot;stateProvince&quot;: 1, &quot;year&quot;: 2006}, &quot;type&quot;: &quot;Feature&quot;}, {&quot;geometry&quot;: {&quot;coordinates&quot;: [-99.06526630165251, 30.880800617242116], &quot;geodesic&quot;: false, &quot;type&quot;: &quot;Point&quot;}, &quot;id&quot;: &quot;00000000000000000060_0&quot;, &quot;properties&quot;: {&quot;gbifID&quot;: 3336600400, &quot;random&quot;: 0.4777536011114688, &quot;species&quot;: &quot;Cedrus deodara&quot;, &quot;stateProvince&quot;: 1, &quot;year&quot;: 2014}, &quot;type&quot;: &quot;Feature&quot;}, {&quot;geometry&quot;: {&quot;coordinates&quot;: [-73.76637228110808, 40.752027948317895], &quot;geodesic&quot;: false, &quot;type&quot;: &quot;Point&quot;}, &quot;id&quot;: &quot;0000000000000000009e_0&quot;, &quot;properties&quot;: {&quot;gbifID&quot;: 3051330019, &quot;random&quot;: 0.48023091950648533, &quot;species&quot;: &quot;Cedrus libani&quot;, &quot;stateProvince&quot;: 1, &quot;year&quot;: 2005}, &quot;type&quot;: &quot;Feature&quot;}, {&quot;geometry&quot;: {&quot;coordinates&quot;: [-79.84176837913681, 36.092825895703584], &quot;geodesic&quot;: false, &quot;type&quot;: &quot;Point&quot;}, &quot;id&quot;: &quot;00000000000000000113_0&quot;, &quot;properties&quot;: {&quot;gbifID&quot;: 930742257, &quot;random&quot;: 0.48248365995786824, &quot;species&quot;: &quot;Cedrus deodara&quot;, &quot;stateProvince&quot;: 1, &quot;year&quot;: 2003}, &quot;type&quot;: &quot;Feature&quot;}, {&quot;geometry&quot;: {&quot;coordinates&quot;: [-122.47149985008554, 48.76796472310162], &quot;geodesic&quot;: false, &quot;type&quot;: &quot;Point&quot;}, &quot;id&quot;: &quot;0000000000000000009b_0&quot;, &quot;properties&quot;: {&quot;gbifID&quot;: 3892756044, &quot;random&quot;: 0.4896315304731238, &quot;species&quot;: &quot;Cedrus libani&quot;, &quot;stateProvince&quot;: 1, &quot;year&quot;: 2005}, &quot;type&quot;: &quot;Feature&quot;}, {&quot;geometry&quot;: {&quot;coordinates&quot;: [-74.13324424314249, 40.605602557006414], &quot;geodesic&quot;: false, &quot;type&quot;: &quot;Point&quot;}, &quot;id&quot;: &quot;00000000000000000006_0&quot;, &quot;properties&quot;: {&quot;gbifID&quot;: 3393733998, &quot;random&quot;: 0.4929710372742415, &quot;species&quot;: &quot;Cedrus atlantica&quot;, &quot;stateProvince&quot;: 1, &quot;year&quot;: 2015}, &quot;type&quot;: &quot;Feature&quot;}, {&quot;geometry&quot;: {&quot;coordinates&quot;: [-73.9762187314784, 40.642074157541664], &quot;geodesic&quot;: false, &quot;type&quot;: &quot;Point&quot;}, &quot;id&quot;: &quot;000000000000000000d6_0&quot;, &quot;properties&quot;: {&quot;gbifID&quot;: 3051206291, &quot;random&quot;: 0.49351034070837807, &quot;species&quot;: &quot;Cedrus libani&quot;, &quot;stateProvince&quot;: 1, &quot;year&quot;: 2005}, &quot;type&quot;: &quot;Feature&quot;}, {&quot;geometry&quot;: {&quot;coordinates&quot;: [-73.958252425796, 40.635606287496], &quot;geodesic&quot;: false, &quot;type&quot;: &quot;Point&quot;}, &quot;id&quot;: &quot;000000000000000000f0_0&quot;, &quot;properties&quot;: {&quot;gbifID&quot;: 3051250582, &quot;random&quot;: 0.49509880758140823, &quot;species&quot;: &quot;Cedrus libani&quot;, &quot;stateProvince&quot;: 1, &quot;year&quot;: 2005}, &quot;type&quot;: &quot;Feature&quot;}, {&quot;geometry&quot;: {&quot;coordinates&quot;: [-73.84219009108777, 40.71079527677681], &quot;geodesic&quot;: false, &quot;type&quot;: &quot;Point&quot;}, &quot;id&quot;: &quot;0000000000000000001e_0&quot;, &quot;properties&quot;: {&quot;gbifID&quot;: 3393859958, &quot;random&quot;: 0.5058861567832977, &quot;species&quot;: &quot;Cedrus deodara&quot;, &quot;stateProvince&quot;: 1, &quot;year&quot;: 2015}, &quot;type&quot;: &quot;Feature&quot;}, {&quot;geometry&quot;: {&quot;coordinates&quot;: [-73.86168353275316, 40.87446832154338], &quot;geodesic&quot;: false, &quot;type&quot;: &quot;Point&quot;}, &quot;id&quot;: &quot;00000000000000000023_0&quot;, &quot;properties&quot;: {&quot;gbifID&quot;: 3393874244, &quot;random&quot;: 0.5178514578185642, &quot;species&quot;: &quot;Cedrus atlantica&quot;, &quot;stateProvince&quot;: 1, &quot;year&quot;: 2015}, &quot;type&quot;: &quot;Feature&quot;}, {&quot;geometry&quot;: {&quot;coordinates&quot;: [-73.97154749200098, 40.60730935604624], &quot;geodesic&quot;: false, &quot;type&quot;: &quot;Point&quot;}, &quot;id&quot;: &quot;000000000000000000d4_0&quot;, &quot;properties&quot;: {&quot;gbifID&quot;: 3050919598, &quot;random&quot;: 0.5238120396222037, &quot;species&quot;: &quot;Cedrus libani&quot;, &quot;stateProvince&quot;: 1, &quot;year&quot;: 2005}, &quot;type&quot;: &quot;Feature&quot;}, {&quot;geometry&quot;: {&quot;coordinates&quot;: [-73.87345146297513, 40.72022758726006], &quot;geodesic&quot;: false, &quot;type&quot;: &quot;Point&quot;}, &quot;id&quot;: &quot;00000000000000000097_0&quot;, &quot;properties&quot;: {&quot;gbifID&quot;: 3051041793, &quot;random&quot;: 0.5273402552865927, &quot;species&quot;: &quot;Cedrus libani&quot;, &quot;stateProvince&quot;: 1, &quot;year&quot;: 2006}, &quot;type&quot;: &quot;Feature&quot;}, {&quot;geometry&quot;: {&quot;coordinates&quot;: [-74.16046319625131, 40.53517463873144], &quot;geodesic&quot;: false, &quot;type&quot;: &quot;Point&quot;}, &quot;id&quot;: &quot;00000000000000000048_0&quot;, &quot;properties&quot;: {&quot;gbifID&quot;: 3393601875, &quot;random&quot;: 0.5294262109799017, &quot;species&quot;: &quot;Cedrus deodara&quot;, &quot;stateProvince&quot;: 1, &quot;year&quot;: 2015}, &quot;type&quot;: &quot;Feature&quot;}, {&quot;geometry&quot;: {&quot;coordinates&quot;: [-121.0491972607391, 39.01971675442181], &quot;geodesic&quot;: false, &quot;type&quot;: &quot;Point&quot;}, &quot;id&quot;: &quot;00000000000000000066_0&quot;, &quot;properties&quot;: {&quot;gbifID&quot;: 2430278096, &quot;random&quot;: 0.5302831705825951, &quot;species&quot;: &quot;Cedrus deodara&quot;, &quot;stateProvince&quot;: 1, &quot;year&quot;: 2012}, &quot;type&quot;: &quot;Feature&quot;}, {&quot;geometry&quot;: {&quot;coordinates&quot;: [-74.10171337666989, 40.59329563761397], &quot;geodesic&quot;: false, &quot;type&quot;: &quot;Point&quot;}, &quot;id&quot;: &quot;0000000000000000005e_0&quot;, &quot;properties&quot;: {&quot;gbifID&quot;: 3393614453, &quot;random&quot;: 0.5397506086123909, &quot;species&quot;: &quot;Cedrus deodara&quot;, &quot;stateProvince&quot;: 1, &quot;year&quot;: 2015}, &quot;type&quot;: &quot;Feature&quot;}, {&quot;geometry&quot;: {&quot;coordinates&quot;: [-74.18938894839997, 40.544786612271515], &quot;geodesic&quot;: false, &quot;type&quot;: &quot;Point&quot;}, &quot;id&quot;: &quot;00000000000000000026_0&quot;, &quot;properties&quot;: {&quot;gbifID&quot;: 3393540068, &quot;random&quot;: 0.5411315246532051, &quot;species&quot;: &quot;Cedrus atlantica&quot;, &quot;stateProvince&quot;: 1, &quot;year&quot;: 2015}, &quot;type&quot;: &quot;Feature&quot;}, {&quot;geometry&quot;: {&quot;coordinates&quot;: [-73.81802540994495, 40.78984702177932], &quot;geodesic&quot;: false, &quot;type&quot;: &quot;Point&quot;}, &quot;id&quot;: &quot;00000000000000000002_0&quot;, &quot;properties&quot;: {&quot;gbifID&quot;: 3393359055, &quot;random&quot;: 0.5448390187589902, &quot;species&quot;: &quot;Cedrus deodara&quot;, &quot;stateProvince&quot;: 1, &quot;year&quot;: 2015}, &quot;type&quot;: &quot;Feature&quot;}, {&quot;geometry&quot;: {&quot;coordinates&quot;: [-73.81811524147336, 40.753465252772486], &quot;geodesic&quot;: false, &quot;type&quot;: &quot;Point&quot;}, &quot;id&quot;: &quot;0000000000000000002e_0&quot;, &quot;properties&quot;: {&quot;gbifID&quot;: 3393558042, &quot;random&quot;: 0.5489188478881329, &quot;species&quot;: &quot;Cedrus atlantica&quot;, &quot;stateProvince&quot;: 1, &quot;year&quot;: 2015}, &quot;type&quot;: &quot;Feature&quot;}, {&quot;geometry&quot;: {&quot;coordinates&quot;: [-73.90022125844189, 40.736936251544684], &quot;geodesic&quot;: false, &quot;type&quot;: &quot;Point&quot;}, &quot;id&quot;: &quot;00000000000000000051_0&quot;, &quot;properties&quot;: {&quot;gbifID&quot;: 3393609359, &quot;random&quot;: 0.5496421142846449, &quot;species&quot;: &quot;Cedrus atlantica&quot;, &quot;stateProvince&quot;: 1, &quot;year&quot;: 2015}, &quot;type&quot;: &quot;Feature&quot;}, {&quot;geometry&quot;: {&quot;coordinates&quot;: [-73.88036849066285, 40.72939040315808], &quot;geodesic&quot;: false, &quot;type&quot;: &quot;Point&quot;}, &quot;id&quot;: &quot;00000000000000000054_0&quot;, &quot;properties&quot;: {&quot;gbifID&quot;: 3393957647, &quot;random&quot;: 0.5618257712627608, &quot;species&quot;: &quot;Cedrus atlantica&quot;, &quot;stateProvince&quot;: 1, &quot;year&quot;: 2015}, &quot;type&quot;: &quot;Feature&quot;}, {&quot;geometry&quot;: {&quot;coordinates&quot;: [-123.26201730011071, 44.564567845649556], &quot;geodesic&quot;: false, &quot;type&quot;: &quot;Point&quot;}, &quot;id&quot;: &quot;00000000000000000065_0&quot;, &quot;properties&quot;: {&quot;gbifID&quot;: 3454983593, &quot;random&quot;: 0.5695903390265634, &quot;species&quot;: &quot;Cedrus deodara&quot;, &quot;stateProvince&quot;: 1, &quot;year&quot;: 2012}, &quot;type&quot;: &quot;Feature&quot;}, {&quot;geometry&quot;: {&quot;coordinates&quot;: [-73.8417409334457, 40.79326061985898], &quot;geodesic&quot;: false, &quot;type&quot;: &quot;Point&quot;}, &quot;id&quot;: &quot;00000000000000000008_0&quot;, &quot;properties&quot;: {&quot;gbifID&quot;: 3393733127, &quot;random&quot;: 0.5752788124281358, &quot;species&quot;: &quot;Cedrus deodara&quot;, &quot;stateProvince&quot;: 1, &quot;year&quot;: 2015}, &quot;type&quot;: &quot;Feature&quot;}, {&quot;geometry&quot;: {&quot;coordinates&quot;: [-74.00828858712147, 40.61602301430219], &quot;geodesic&quot;: false, &quot;type&quot;: &quot;Point&quot;}, &quot;id&quot;: &quot;000000000000000000db_0&quot;, &quot;properties&quot;: {&quot;gbifID&quot;: 3050938563, &quot;random&quot;: 0.583860913416316, &quot;species&quot;: &quot;Cedrus libani&quot;, &quot;stateProvince&quot;: 1, &quot;year&quot;: 2005}, &quot;type&quot;: &quot;Feature&quot;}, {&quot;geometry&quot;: {&quot;coordinates&quot;: [-73.77840970591528, 40.76478402535239], &quot;geodesic&quot;: false, &quot;type&quot;: &quot;Point&quot;}, &quot;id&quot;: &quot;00000000000000000092_0&quot;, &quot;properties&quot;: {&quot;gbifID&quot;: 3051247869, &quot;random&quot;: 0.5841958476431584, &quot;species&quot;: &quot;Cedrus libani&quot;, &quot;stateProvince&quot;: 1, &quot;year&quot;: 2006}, &quot;type&quot;: &quot;Feature&quot;}, {&quot;geometry&quot;: {&quot;coordinates&quot;: [-73.80643714277981, 40.785175782301906], &quot;geodesic&quot;: false, &quot;type&quot;: &quot;Point&quot;}, &quot;id&quot;: &quot;000000000000000000fb_0&quot;, &quot;properties&quot;: {&quot;gbifID&quot;: 3051277347, &quot;random&quot;: 0.5935498296042415, &quot;species&quot;: &quot;Cedrus libani&quot;, &quot;stateProvince&quot;: 1, &quot;year&quot;: 2005}, &quot;type&quot;: &quot;Feature&quot;}, {&quot;geometry&quot;: {&quot;coordinates&quot;: [-116.9732713221036, 33.79565405115314], &quot;geodesic&quot;: false, &quot;type&quot;: &quot;Point&quot;}, &quot;id&quot;: &quot;00000000000000000070_0&quot;, &quot;properties&quot;: {&quot;gbifID&quot;: 3059692059, &quot;random&quot;: 0.5941693861996321, &quot;species&quot;: &quot;Cedrus deodara&quot;, &quot;stateProvince&quot;: 1, &quot;year&quot;: 2009}, &quot;type&quot;: &quot;Feature&quot;}, {&quot;geometry&quot;: {&quot;coordinates&quot;: [-73.98313575916612, 40.63506729832553], &quot;geodesic&quot;: false, &quot;type&quot;: &quot;Point&quot;}, &quot;id&quot;: &quot;000000000000000000d5_0&quot;, &quot;properties&quot;: {&quot;gbifID&quot;: 3051206130, &quot;random&quot;: 0.5955714950529973, &quot;species&quot;: &quot;Cedrus libani&quot;, &quot;stateProvince&quot;: 1, &quot;year&quot;: 2005}, &quot;type&quot;: &quot;Feature&quot;}, {&quot;geometry&quot;: {&quot;coordinates&quot;: [-73.9732542910408, 40.67046092051984], &quot;geodesic&quot;: false, &quot;type&quot;: &quot;Point&quot;}, &quot;id&quot;: &quot;000000000000000000de_0&quot;, &quot;properties&quot;: {&quot;gbifID&quot;: 3051226042, &quot;random&quot;: 0.6026423817989857, &quot;species&quot;: &quot;Cedrus libani&quot;, &quot;stateProvince&quot;: 1, &quot;year&quot;: 2005}, &quot;type&quot;: &quot;Feature&quot;}, {&quot;geometry&quot;: {&quot;coordinates&quot;: [-73.84236975414458, 40.66219641990594], &quot;geodesic&quot;: false, &quot;type&quot;: &quot;Point&quot;}, &quot;id&quot;: &quot;00000000000000000010_0&quot;, &quot;properties&quot;: {&quot;gbifID&quot;: 3393445912, &quot;random&quot;: 0.6033446597444599, &quot;species&quot;: &quot;Cedrus deodara&quot;, &quot;stateProvince&quot;: 1, &quot;year&quot;: 2015}, &quot;type&quot;: &quot;Feature&quot;}, {&quot;geometry&quot;: {&quot;coordinates&quot;: [-74.00891740782035, 40.61548402513173], &quot;geodesic&quot;: false, &quot;type&quot;: &quot;Point&quot;}, &quot;id&quot;: &quot;000000000000000000da_0&quot;, &quot;properties&quot;: {&quot;gbifID&quot;: 3050941563, &quot;random&quot;: 0.6158291158404658, &quot;species&quot;: &quot;Cedrus libani&quot;, &quot;stateProvince&quot;: 1, &quot;year&quot;: 2005}, &quot;type&quot;: &quot;Feature&quot;}, {&quot;geometry&quot;: {&quot;coordinates&quot;: [-73.78918948932471, 40.763167057840974], &quot;geodesic&quot;: false, &quot;type&quot;: &quot;Point&quot;}, &quot;id&quot;: &quot;00000000000000000012_0&quot;, &quot;properties&quot;: {&quot;gbifID&quot;: 3393447946, &quot;random&quot;: 0.6210369121504774, &quot;species&quot;: &quot;Cedrus atlantica&quot;, &quot;stateProvince&quot;: 1, &quot;year&quot;: 2015}, &quot;type&quot;: &quot;Feature&quot;}, {&quot;geometry&quot;: {&quot;coordinates&quot;: [-73.84937661336072, 40.708369825509685], &quot;geodesic&quot;: false, &quot;type&quot;: &quot;Point&quot;}, &quot;id&quot;: &quot;000000000000000000f4_0&quot;, &quot;properties&quot;: {&quot;gbifID&quot;: 3050979794, &quot;random&quot;: 0.6217223139228049, &quot;species&quot;: &quot;Cedrus libani&quot;, &quot;stateProvince&quot;: 1, &quot;year&quot;: 2005}, &quot;type&quot;: &quot;Feature&quot;}, {&quot;geometry&quot;: {&quot;coordinates&quot;: [-74.09515567509582, 40.580090402937415], &quot;geodesic&quot;: false, &quot;type&quot;: &quot;Point&quot;}, &quot;id&quot;: &quot;00000000000000000033_0&quot;, &quot;properties&quot;: {&quot;gbifID&quot;: 3393913095, &quot;random&quot;: 0.624111607221477, &quot;species&quot;: &quot;Cedrus deodara&quot;, &quot;stateProvince&quot;: 1, &quot;year&quot;: 2015}, &quot;type&quot;: &quot;Feature&quot;}, {&quot;geometry&quot;: {&quot;coordinates&quot;: [-73.97639839453522, 40.67198805650284], &quot;geodesic&quot;: false, &quot;type&quot;: &quot;Point&quot;}, &quot;id&quot;: &quot;000000000000000000df_0&quot;, &quot;properties&quot;: {&quot;gbifID&quot;: 3050946096, &quot;random&quot;: 0.6354065893189751, &quot;species&quot;: &quot;Cedrus libani&quot;, &quot;stateProvince&quot;: 1, &quot;year&quot;: 2005}, &quot;type&quot;: &quot;Feature&quot;}, {&quot;geometry&quot;: {&quot;coordinates&quot;: [-73.93804033190332, 40.603177105739285], &quot;geodesic&quot;: false, &quot;type&quot;: &quot;Point&quot;}, &quot;id&quot;: &quot;000000000000000000ef_0&quot;, &quot;properties&quot;: {&quot;gbifID&quot;: 3051239546, &quot;random&quot;: 0.6381059860160166, &quot;species&quot;: &quot;Cedrus libani&quot;, &quot;stateProvince&quot;: 1, &quot;year&quot;: 2005}, &quot;type&quot;: &quot;Feature&quot;}, {&quot;geometry&quot;: {&quot;coordinates&quot;: [-74.09165224548775, 40.6347978037403], &quot;geodesic&quot;: false, &quot;type&quot;: &quot;Point&quot;}, &quot;id&quot;: &quot;000000000000000000c2_0&quot;, &quot;properties&quot;: {&quot;gbifID&quot;: 3051403497, &quot;random&quot;: 0.648440603363995, &quot;species&quot;: &quot;Cedrus libani&quot;, &quot;stateProvince&quot;: 1, &quot;year&quot;: 2005}, &quot;type&quot;: &quot;Feature&quot;}, {&quot;geometry&quot;: {&quot;coordinates&quot;: [-73.81595928479148, 40.81437102903579], &quot;geodesic&quot;: false, &quot;type&quot;: &quot;Point&quot;}, &quot;id&quot;: &quot;00000000000000000000_0&quot;, &quot;properties&quot;: {&quot;gbifID&quot;: 3393360887, &quot;random&quot;: 0.648751462875965, &quot;species&quot;: &quot;Cedrus atlantica&quot;, &quot;stateProvince&quot;: 1, &quot;year&quot;: 2015}, &quot;type&quot;: &quot;Feature&quot;}, {&quot;geometry&quot;: {&quot;coordinates&quot;: [-73.9003110899703, 40.706483363413035], &quot;geodesic&quot;: false, &quot;type&quot;: &quot;Point&quot;}, &quot;id&quot;: &quot;000000000000000000fd_0&quot;, &quot;properties&quot;: {&quot;gbifID&quot;: 3050995948, &quot;random&quot;: 0.6551078498005452, &quot;species&quot;: &quot;Cedrus libani&quot;, &quot;stateProvince&quot;: 1, &quot;year&quot;: 2005}, &quot;type&quot;: &quot;Feature&quot;}, {&quot;geometry&quot;: {&quot;coordinates&quot;: [-73.7492144591814, 40.683127166025926], &quot;geodesic&quot;: false, &quot;type&quot;: &quot;Point&quot;}, &quot;id&quot;: &quot;000000000000000000b4_0&quot;, &quot;properties&quot;: {&quot;gbifID&quot;: 3051078004, &quot;random&quot;: 0.6673523288813081, &quot;species&quot;: &quot;Cedrus libani&quot;, &quot;stateProvince&quot;: 1, &quot;year&quot;: 2005}, &quot;type&quot;: &quot;Feature&quot;}, {&quot;geometry&quot;: {&quot;coordinates&quot;: [-73.92483509722676, 40.740799007266396], &quot;geodesic&quot;: false, &quot;type&quot;: &quot;Point&quot;}, &quot;id&quot;: &quot;000000000000000000f8_0&quot;, &quot;properties&quot;: {&quot;gbifID&quot;: 3050990777, &quot;random&quot;: 0.6687640263289266, &quot;species&quot;: &quot;Cedrus libani&quot;, &quot;stateProvince&quot;: 1, &quot;year&quot;: 2005}, &quot;type&quot;: &quot;Feature&quot;}, {&quot;geometry&quot;: {&quot;coordinates&quot;: [-76.34920838600853, 39.99816176188479], &quot;geodesic&quot;: false, &quot;type&quot;: &quot;Point&quot;}, &quot;id&quot;: &quot;0000000000000000007b_0&quot;, &quot;properties&quot;: {&quot;gbifID&quot;: 3331196959, &quot;random&quot;: 0.6703471357559565, &quot;species&quot;: &quot;Cedrus atlantica&quot;, &quot;stateProvince&quot;: 1, &quot;year&quot;: 2007}, &quot;type&quot;: &quot;Feature&quot;}, {&quot;geometry&quot;: {&quot;coordinates&quot;: [-73.91028238962403, 40.63129437413223], &quot;geodesic&quot;: false, &quot;type&quot;: &quot;Point&quot;}, &quot;id&quot;: &quot;0000000000000000008e_0&quot;, &quot;properties&quot;: {&quot;gbifID&quot;: 3051226928, &quot;random&quot;: 0.6788632834028423, &quot;species&quot;: &quot;Cedrus libani&quot;, &quot;stateProvince&quot;: 1, &quot;year&quot;: 2006}, &quot;type&quot;: &quot;Feature&quot;}, {&quot;geometry&quot;: {&quot;coordinates&quot;: [-82.82920568800469, 34.67941662766992], &quot;geodesic&quot;: false, &quot;type&quot;: &quot;Point&quot;}, &quot;id&quot;: &quot;0000000000000000006c_0&quot;, &quot;properties&quot;: {&quot;gbifID&quot;: 1849165563, &quot;random&quot;: 0.6947010100728336, &quot;species&quot;: &quot;Cedrus deodara&quot;, &quot;stateProvince&quot;: 1, &quot;year&quot;: 2010}, &quot;type&quot;: &quot;Feature&quot;}, {&quot;geometry&quot;: {&quot;coordinates&quot;: [-73.99149009130844, 40.620873916836445], &quot;geodesic&quot;: false, &quot;type&quot;: &quot;Point&quot;}, &quot;id&quot;: &quot;000000000000000000e0_0&quot;, &quot;properties&quot;: {&quot;gbifID&quot;: 3050956542, &quot;random&quot;: 0.7072474481203614, &quot;species&quot;: &quot;Cedrus libani&quot;, &quot;stateProvince&quot;: 1, &quot;year&quot;: 2005}, &quot;type&quot;: &quot;Feature&quot;}, {&quot;geometry&quot;: {&quot;coordinates&quot;: [-75.67583124903254, 39.873655263505825], &quot;geodesic&quot;: false, &quot;type&quot;: &quot;Point&quot;}, &quot;id&quot;: &quot;00000000000000000116_0&quot;, &quot;properties&quot;: {&quot;gbifID&quot;: 1986943177, &quot;random&quot;: 0.7157173069054201, &quot;species&quot;: &quot;Cedrus libani&quot;, &quot;stateProvince&quot;: 1, &quot;year&quot;: 2000}, &quot;type&quot;: &quot;Feature&quot;}, {&quot;geometry&quot;: {&quot;coordinates&quot;: [-73.785326733603, 40.84167981367302], &quot;geodesic&quot;: false, &quot;type&quot;: &quot;Point&quot;}, &quot;id&quot;: &quot;000000000000000000c8_0&quot;, &quot;properties&quot;: {&quot;gbifID&quot;: 3051159291, &quot;random&quot;: 0.7316015072529387, &quot;species&quot;: &quot;Cedrus libani&quot;, &quot;stateProvince&quot;: 1, &quot;year&quot;: 2005}, &quot;type&quot;: &quot;Feature&quot;}, {&quot;geometry&quot;: {&quot;coordinates&quot;: [-74.0927302238287, 40.632552015529996], &quot;geodesic&quot;: false, &quot;type&quot;: &quot;Point&quot;}, &quot;id&quot;: &quot;000000000000000000c0_0&quot;, &quot;properties&quot;: {&quot;gbifID&quot;: 3051404388, &quot;random&quot;: 0.7357005784596766, &quot;species&quot;: &quot;Cedrus libani&quot;, &quot;stateProvince&quot;: 1, &quot;year&quot;: 2005}, &quot;type&quot;: &quot;Feature&quot;}, {&quot;geometry&quot;: {&quot;coordinates&quot;: [-73.82494243763267, 40.79263179916009], &quot;geodesic&quot;: false, &quot;type&quot;: &quot;Point&quot;}, &quot;id&quot;: &quot;0000000000000000002f_0&quot;, &quot;properties&quot;: {&quot;gbifID&quot;: 3393562146, &quot;random&quot;: 0.7361720898019137, &quot;species&quot;: &quot;Cedrus deodara&quot;, &quot;stateProvince&quot;: 1, &quot;year&quot;: 2015}, &quot;type&quot;: &quot;Feature&quot;}, {&quot;geometry&quot;: {&quot;coordinates&quot;: [-74.09326921299918, 40.59167867010256], &quot;geodesic&quot;: false, &quot;type&quot;: &quot;Point&quot;}, &quot;id&quot;: &quot;000000000000000000b5_0&quot;, &quot;properties&quot;: {&quot;gbifID&quot;: 3051377658, &quot;random&quot;: 0.745264809888776, &quot;species&quot;: &quot;Cedrus libani&quot;, &quot;stateProvince&quot;: 1, &quot;year&quot;: 2005}, &quot;type&quot;: &quot;Feature&quot;}, {&quot;geometry&quot;: {&quot;coordinates&quot;: [-73.88872282280516, 40.66677782785495], &quot;geodesic&quot;: false, &quot;type&quot;: &quot;Point&quot;}, &quot;id&quot;: &quot;0000000000000000003c_0&quot;, &quot;properties&quot;: {&quot;gbifID&quot;: 3393914453, &quot;random&quot;: 0.7456517408354238, &quot;species&quot;: &quot;Cedrus atlantica&quot;, &quot;stateProvince&quot;: 1, &quot;year&quot;: 2015}, &quot;type&quot;: &quot;Feature&quot;}, {&quot;geometry&quot;: {&quot;coordinates&quot;: [-73.83608154715576, 40.84069166686049], &quot;geodesic&quot;: false, &quot;type&quot;: &quot;Point&quot;}, &quot;id&quot;: &quot;0000000000000000008c_0&quot;, &quot;properties&quot;: {&quot;gbifID&quot;: 3050900612, &quot;random&quot;: 0.7506294883081492, &quot;species&quot;: &quot;Cedrus libani&quot;, &quot;stateProvince&quot;: 1, &quot;year&quot;: 2006}, &quot;type&quot;: &quot;Feature&quot;}, {&quot;geometry&quot;: {&quot;coordinates&quot;: [-73.896538165777, 40.63057572190493], &quot;geodesic&quot;: false, &quot;type&quot;: &quot;Point&quot;}, &quot;id&quot;: &quot;000000000000000000f3_0&quot;, &quot;properties&quot;: {&quot;gbifID&quot;: 3050974114, &quot;random&quot;: 0.7733674698257823, &quot;species&quot;: &quot;Cedrus libani&quot;, &quot;stateProvince&quot;: 1, &quot;year&quot;: 2005}, &quot;type&quot;: &quot;Feature&quot;}, {&quot;geometry&quot;: {&quot;coordinates&quot;: [-73.80760495264917, 40.75418390499978], &quot;geodesic&quot;: false, &quot;type&quot;: &quot;Point&quot;}, &quot;id&quot;: &quot;0000000000000000002a_0&quot;, &quot;properties&quot;: {&quot;gbifID&quot;: 3393554180, &quot;random&quot;: 0.7756460902713374, &quot;species&quot;: &quot;Cedrus deodara&quot;, &quot;stateProvince&quot;: 1, &quot;year&quot;: 2015}, &quot;type&quot;: &quot;Feature&quot;}, {&quot;geometry&quot;: {&quot;coordinates&quot;: [-73.85198172768467, 40.69336796026489], &quot;geodesic&quot;: false, &quot;type&quot;: &quot;Point&quot;}, &quot;id&quot;: &quot;000000000000000000af_0&quot;, &quot;properties&quot;: {&quot;gbifID&quot;: 3051063579, &quot;random&quot;: 0.777248566964427, &quot;species&quot;: &quot;Cedrus libani&quot;, &quot;stateProvince&quot;: 1, &quot;year&quot;: 2005}, &quot;type&quot;: &quot;Feature&quot;}, {&quot;geometry&quot;: {&quot;coordinates&quot;: [-73.7440042305335, 40.76981459094346], &quot;geodesic&quot;: false, &quot;type&quot;: &quot;Point&quot;}, &quot;id&quot;: &quot;00000000000000000031_0&quot;, &quot;properties&quot;: {&quot;gbifID&quot;: 3393551126, &quot;random&quot;: 0.7927485107516318, &quot;species&quot;: &quot;Cedrus atlantica&quot;, &quot;stateProvince&quot;: 1, &quot;year&quot;: 2015}, &quot;type&quot;: &quot;Feature&quot;}, {&quot;geometry&quot;: {&quot;coordinates&quot;: [-117.16389382539376, 34.0621841959514], &quot;geodesic&quot;: false, &quot;type&quot;: &quot;Point&quot;}, &quot;id&quot;: &quot;00000000000000000071_0&quot;, &quot;properties&quot;: {&quot;gbifID&quot;: 2422532801, &quot;random&quot;: 0.7929973711463667, &quot;species&quot;: &quot;Cedrus atlantica&quot;, &quot;stateProvince&quot;: 1, &quot;year&quot;: 2009}, &quot;type&quot;: &quot;Feature&quot;}, {&quot;geometry&quot;: {&quot;coordinates&quot;: [-73.9702000190748, 40.61162126941001], &quot;geodesic&quot;: false, &quot;type&quot;: &quot;Point&quot;}, &quot;id&quot;: &quot;0000000000000000000f_0&quot;, &quot;properties&quot;: {&quot;gbifID&quot;: 3393782797, &quot;random&quot;: 0.7955811722777663, &quot;species&quot;: &quot;Cedrus deodara&quot;, &quot;stateProvince&quot;: 1, &quot;year&quot;: 2015}, &quot;type&quot;: &quot;Feature&quot;}, {&quot;geometry&quot;: {&quot;coordinates&quot;: [-73.87812270245254, 40.6633642297753], &quot;geodesic&quot;: false, &quot;type&quot;: &quot;Point&quot;}, &quot;id&quot;: &quot;0000000000000000002d_0&quot;, &quot;properties&quot;: {&quot;gbifID&quot;: 3393561833, &quot;random&quot;: 0.8181147582465732, &quot;species&quot;: &quot;Cedrus atlantica&quot;, &quot;stateProvince&quot;: 1, &quot;year&quot;: 2015}, &quot;type&quot;: &quot;Feature&quot;}, {&quot;geometry&quot;: {&quot;coordinates&quot;: [-73.87282264227625, 40.71322072804393], &quot;geodesic&quot;: false, &quot;type&quot;: &quot;Point&quot;}, &quot;id&quot;: &quot;00000000000000000086_0&quot;, &quot;properties&quot;: {&quot;gbifID&quot;: 3051342668, &quot;random&quot;: 0.8240873073362708, &quot;species&quot;: &quot;Cedrus libani&quot;, &quot;stateProvince&quot;: 1, &quot;year&quot;: 2006}, &quot;type&quot;: &quot;Feature&quot;}, {&quot;geometry&quot;: {&quot;coordinates&quot;: [-73.9084857590558, 40.90042963325444], &quot;geodesic&quot;: false, &quot;type&quot;: &quot;Point&quot;}, &quot;id&quot;: &quot;0000000000000000008d_0&quot;, &quot;properties&quot;: {&quot;gbifID&quot;: 3051186336, &quot;random&quot;: 0.8307850852578262, &quot;species&quot;: &quot;Cedrus libani&quot;, &quot;stateProvince&quot;: 1, &quot;year&quot;: 2006}, &quot;type&quot;: &quot;Feature&quot;}, {&quot;geometry&quot;: {&quot;coordinates&quot;: [-122.25832963316398, 37.871939315902296], &quot;geodesic&quot;: false, &quot;type&quot;: &quot;Point&quot;}, &quot;id&quot;: &quot;00000000000000000069_0&quot;, &quot;properties&quot;: {&quot;gbifID&quot;: 3059681883, &quot;random&quot;: 0.831035822018685, &quot;species&quot;: &quot;Cedrus libani&quot;, &quot;stateProvince&quot;: 1, &quot;year&quot;: 2011}, &quot;type&quot;: &quot;Feature&quot;}, {&quot;geometry&quot;: {&quot;coordinates&quot;: [-73.78038599954034, 40.72319202769766], &quot;geodesic&quot;: false, &quot;type&quot;: &quot;Point&quot;}, &quot;id&quot;: &quot;00000000000000000103_0&quot;, &quot;properties&quot;: {&quot;gbifID&quot;: 3051276258, &quot;random&quot;: 0.8461078898048261, &quot;species&quot;: &quot;Cedrus libani&quot;, &quot;stateProvince&quot;: 1, &quot;year&quot;: 2005}, &quot;type&quot;: &quot;Feature&quot;}, {&quot;geometry&quot;: {&quot;coordinates&quot;: [-73.8672530875147, 40.90249575840791], &quot;geodesic&quot;: false, &quot;type&quot;: &quot;Point&quot;}, &quot;id&quot;: &quot;000000000000000000cb_0&quot;, &quot;properties&quot;: {&quot;gbifID&quot;: 3051188235, &quot;random&quot;: 0.8627242424977207, &quot;species&quot;: &quot;Cedrus libani&quot;, &quot;stateProvince&quot;: 1, &quot;year&quot;: 2005}, &quot;type&quot;: &quot;Feature&quot;}, {&quot;geometry&quot;: {&quot;coordinates&quot;: [-73.92564358098247, 40.73684642001627], &quot;geodesic&quot;: false, &quot;type&quot;: &quot;Point&quot;}, &quot;id&quot;: &quot;000000000000000000f6_0&quot;, &quot;properties&quot;: {&quot;gbifID&quot;: 3050990643, &quot;random&quot;: 0.864922188005025, &quot;species&quot;: &quot;Cedrus libani&quot;, &quot;stateProvince&quot;: 1, &quot;year&quot;: 2005}, &quot;type&quot;: &quot;Feature&quot;}, {&quot;geometry&quot;: {&quot;coordinates&quot;: [-82.34474425527904, 29.64723406908919], &quot;geodesic&quot;: false, &quot;type&quot;: &quot;Point&quot;}, &quot;id&quot;: &quot;0000000000000000007c_0&quot;, &quot;properties&quot;: {&quot;gbifID&quot;: 1258117288, &quot;random&quot;: 0.8728983212128548, &quot;species&quot;: &quot;Cedrus deodara&quot;, &quot;stateProvince&quot;: 1, &quot;year&quot;: 2007}, &quot;type&quot;: &quot;Feature&quot;}, {&quot;geometry&quot;: {&quot;coordinates&quot;: [-73.86186319580999, 40.570298766340514], &quot;geodesic&quot;: false, &quot;type&quot;: &quot;Point&quot;}, &quot;id&quot;: &quot;000000000000000000a3_0&quot;, &quot;properties&quot;: {&quot;gbifID&quot;: 3051053500, &quot;random&quot;: 0.8782429098805116, &quot;species&quot;: &quot;Cedrus libani&quot;, &quot;stateProvince&quot;: 1, &quot;year&quot;: 2005}, &quot;type&quot;: &quot;Feature&quot;}, {&quot;geometry&quot;: {&quot;coordinates&quot;: [-117.63892294763616, 33.82080687910849], &quot;geodesic&quot;: false, &quot;type&quot;: &quot;Point&quot;}, &quot;id&quot;: &quot;00000000000000000076_0&quot;, &quot;properties&quot;: {&quot;gbifID&quot;: 2430190873, &quot;random&quot;: 0.8870471183715257, &quot;species&quot;: &quot;Cedrus deodara&quot;, &quot;stateProvince&quot;: 1, &quot;year&quot;: 2007}, &quot;type&quot;: &quot;Feature&quot;}, {&quot;geometry&quot;: {&quot;coordinates&quot;: [-73.81703726313242, 40.7175326414077], &quot;geodesic&quot;: false, &quot;type&quot;: &quot;Point&quot;}, &quot;id&quot;: &quot;00000000000000000088_0&quot;, &quot;properties&quot;: {&quot;gbifID&quot;: 3051084441, &quot;random&quot;: 0.8934307629158141, &quot;species&quot;: &quot;Cedrus libani&quot;, &quot;stateProvince&quot;: 1, &quot;year&quot;: 2006}, &quot;type&quot;: &quot;Feature&quot;}, {&quot;geometry&quot;: {&quot;coordinates&quot;: [-73.85413768436656, 40.73082770761267], &quot;geodesic&quot;: false, &quot;type&quot;: &quot;Point&quot;}, &quot;id&quot;: &quot;00000000000000000019_0&quot;, &quot;properties&quot;: {&quot;gbifID&quot;: 3393805671, &quot;random&quot;: 0.9039948682417802, &quot;species&quot;: &quot;Cedrus deodara&quot;, &quot;stateProvince&quot;: 1, &quot;year&quot;: 2015}, &quot;type&quot;: &quot;Feature&quot;}, {&quot;geometry&quot;: {&quot;coordinates&quot;: [-73.87372095756037, 40.76568234063651], &quot;geodesic&quot;: false, &quot;type&quot;: &quot;Point&quot;}, &quot;id&quot;: &quot;00000000000000000045_0&quot;, &quot;properties&quot;: {&quot;gbifID&quot;: 3393936964, &quot;random&quot;: 0.9176204205678691, &quot;species&quot;: &quot;Cedrus atlantica&quot;, &quot;stateProvince&quot;: 1, &quot;year&quot;: 2015}, &quot;type&quot;: &quot;Feature&quot;}, {&quot;geometry&quot;: {&quot;coordinates&quot;: [-73.78209279858017, 40.76244840561368], &quot;geodesic&quot;: false, &quot;type&quot;: &quot;Point&quot;}, &quot;id&quot;: &quot;00000000000000000112_0&quot;, &quot;properties&quot;: {&quot;gbifID&quot;: 3051326739, &quot;random&quot;: 0.9205700888710191, &quot;species&quot;: &quot;Cedrus libani&quot;, &quot;stateProvince&quot;: 1, &quot;year&quot;: 2005}, &quot;type&quot;: &quot;Feature&quot;}, {&quot;geometry&quot;: {&quot;coordinates&quot;: [-74.12228479667624, 40.614675541376016], &quot;geodesic&quot;: false, &quot;type&quot;: &quot;Point&quot;}, &quot;id&quot;: &quot;000000000000000000bb_0&quot;, &quot;properties&quot;: {&quot;gbifID&quot;: 3051102768, &quot;random&quot;: 0.920593459918937, &quot;species&quot;: &quot;Cedrus libani&quot;, &quot;stateProvince&quot;: 1, &quot;year&quot;: 2005}, &quot;type&quot;: &quot;Feature&quot;}, {&quot;geometry&quot;: {&quot;coordinates&quot;: [-73.86527679388963, 40.90042963325444], &quot;geodesic&quot;: false, &quot;type&quot;: &quot;Point&quot;}, &quot;id&quot;: &quot;000000000000000000cd_0&quot;, &quot;properties&quot;: {&quot;gbifID&quot;: 3051185293, &quot;random&quot;: 0.9214941723964809, &quot;species&quot;: &quot;Cedrus libani&quot;, &quot;stateProvince&quot;: 1, &quot;year&quot;: 2005}, &quot;type&quot;: &quot;Feature&quot;}, {&quot;geometry&quot;: {&quot;coordinates&quot;: [-73.94450820194898, 40.64081651614389], &quot;geodesic&quot;: false, &quot;type&quot;: &quot;Point&quot;}, &quot;id&quot;: &quot;0000000000000000005c_0&quot;, &quot;properties&quot;: {&quot;gbifID&quot;: 3393939303, &quot;random&quot;: 0.9271457618831778, &quot;species&quot;: &quot;Cedrus atlantica&quot;, &quot;stateProvince&quot;: 1, &quot;year&quot;: 2015}, &quot;type&quot;: &quot;Feature&quot;}, {&quot;geometry&quot;: {&quot;coordinates&quot;: [-73.76592312346602, 40.75292626360201], &quot;geodesic&quot;: false, &quot;type&quot;: &quot;Point&quot;}, &quot;id&quot;: &quot;00000000000000000005_0&quot;, &quot;properties&quot;: {&quot;gbifID&quot;: 3393391861, &quot;random&quot;: 0.9294794774861904, &quot;species&quot;: &quot;Cedrus atlantica&quot;, &quot;stateProvince&quot;: 1, &quot;year&quot;: 2015}, &quot;type&quot;: &quot;Feature&quot;}, {&quot;geometry&quot;: {&quot;coordinates&quot;: [-73.97415260632492, 40.67629996986662], &quot;geodesic&quot;: false, &quot;type&quot;: &quot;Point&quot;}, &quot;id&quot;: &quot;0000000000000000008f_0&quot;, &quot;properties&quot;: {&quot;gbifID&quot;: 3051224024, &quot;random&quot;: 0.9316415516698149, &quot;species&quot;: &quot;Cedrus libani&quot;, &quot;stateProvince&quot;: 1, &quot;year&quot;: 2006}, &quot;type&quot;: &quot;Feature&quot;}, {&quot;geometry&quot;: {&quot;coordinates&quot;: [-73.99732914065521, 40.607758513688296], &quot;geodesic&quot;: false, &quot;type&quot;: &quot;Point&quot;}, &quot;id&quot;: &quot;000000000000000000eb_0&quot;, &quot;properties&quot;: {&quot;gbifID&quot;: 3051246924, &quot;random&quot;: 0.9437207788633479, &quot;species&quot;: &quot;Cedrus libani&quot;, &quot;stateProvince&quot;: 1, &quot;year&quot;: 2005}, &quot;type&quot;: &quot;Feature&quot;}, {&quot;geometry&quot;: {&quot;coordinates&quot;: [-73.77885886355735, 40.67171856191761], &quot;geodesic&quot;: false, &quot;type&quot;: &quot;Point&quot;}, &quot;id&quot;: &quot;00000000000000000107_0&quot;, &quot;properties&quot;: {&quot;gbifID&quot;: 3051289997, &quot;random&quot;: 0.9444857883871117, &quot;species&quot;: &quot;Cedrus libani&quot;, &quot;stateProvince&quot;: 1, &quot;year&quot;: 2005}, &quot;type&quot;: &quot;Feature&quot;}, {&quot;geometry&quot;: {&quot;coordinates&quot;: [-74.15938521791037, 40.53795941611221], &quot;geodesic&quot;: false, &quot;type&quot;: &quot;Point&quot;}, &quot;id&quot;: &quot;0000000000000000004a_0&quot;, &quot;properties&quot;: {&quot;gbifID&quot;: 3393602182, &quot;random&quot;: 0.9507977599869349, &quot;species&quot;: &quot;Cedrus deodara&quot;, &quot;stateProvince&quot;: 1, &quot;year&quot;: 2015}, &quot;type&quot;: &quot;Feature&quot;}, {&quot;geometry&quot;: {&quot;coordinates&quot;: [-74.14950374978505, 40.617280655699965], &quot;geodesic&quot;: false, &quot;type&quot;: &quot;Point&quot;}, &quot;id&quot;: &quot;00000000000000000022_0&quot;, &quot;properties&quot;: {&quot;gbifID&quot;: 3393525827, &quot;random&quot;: 0.954440875098173, &quot;species&quot;: &quot;Cedrus atlantica&quot;, &quot;stateProvince&quot;: 1, &quot;year&quot;: 2015}, &quot;type&quot;: &quot;Feature&quot;}, {&quot;geometry&quot;: {&quot;coordinates&quot;: [-123.2333610425473, 49.25000070456016], &quot;geodesic&quot;: false, &quot;type&quot;: &quot;Point&quot;}, &quot;id&quot;: &quot;0000000000000000006d_0&quot;, &quot;properties&quot;: {&quot;gbifID&quot;: 1988065257, &quot;random&quot;: 0.9611099332706405, &quot;species&quot;: &quot;Cedrus libani&quot;, &quot;stateProvince&quot;: 1, &quot;year&quot;: 2010}, &quot;type&quot;: &quot;Feature&quot;}, {&quot;geometry&quot;: {&quot;coordinates&quot;: [-73.785326733603, 40.76406537312509], &quot;geodesic&quot;: false, &quot;type&quot;: &quot;Point&quot;}, &quot;id&quot;: &quot;000000000000000000b0_0&quot;, &quot;properties&quot;: {&quot;gbifID&quot;: 3051066839, &quot;random&quot;: 0.9655653005349623, &quot;species&quot;: &quot;Cedrus libani&quot;, &quot;stateProvince&quot;: 1, &quot;year&quot;: 2005}, &quot;type&quot;: &quot;Feature&quot;}, {&quot;geometry&quot;: {&quot;coordinates&quot;: [-73.88360242568568, 40.674952496940435], &quot;geodesic&quot;: false, &quot;type&quot;: &quot;Point&quot;}, &quot;id&quot;: &quot;0000000000000000002c_0&quot;, &quot;properties&quot;: {&quot;gbifID&quot;: 3393568396, &quot;random&quot;: 0.9695972893672543, &quot;species&quot;: &quot;Cedrus atlantica&quot;, &quot;stateProvince&quot;: 1, &quot;year&quot;: 2015}, &quot;type&quot;: &quot;Feature&quot;}, {&quot;geometry&quot;: {&quot;coordinates&quot;: [-73.74714833402793, 40.71708348376564], &quot;geodesic&quot;: false, &quot;type&quot;: &quot;Point&quot;}, &quot;id&quot;: &quot;00000000000000000017_0&quot;, &quot;properties&quot;: {&quot;gbifID&quot;: 3393785211, &quot;random&quot;: 0.9985576540972482, &quot;species&quot;: &quot;Cedrus deodara&quot;, &quot;stateProvince&quot;: 1, &quot;year&quot;: 2015}, &quot;type&quot;: &quot;Feature&quot;}], &quot;type&quot;: &quot;FeatureCollection&quot;});\n",
              "\n",
              "        \n",
              "    \n",
              "            var layer_control_6e0aa3cdef4550cca89aff75f0160eac = {\n",
              "                base_layers : {\n",
              "                    &quot;openstreetmap&quot; : tile_layer_a2086336c9bb1e5e2bb040ef28ab75c0,\n",
              "                },\n",
              "                overlays :  {\n",
              "                    &quot;data&quot; : geo_json_70328d6f63267975fce8042cd47ed2fa,\n",
              "                },\n",
              "            };\n",
              "            L.control.layers(\n",
              "                layer_control_6e0aa3cdef4550cca89aff75f0160eac.base_layers,\n",
              "                layer_control_6e0aa3cdef4550cca89aff75f0160eac.overlays,\n",
              "                {&quot;autoZIndex&quot;: true, &quot;collapsed&quot;: true, &quot;position&quot;: &quot;topright&quot;}\n",
              "            ).addTo(map_9c63fc669b834f6d00f870cc0520c879);\n",
              "        \n",
              "&lt;/script&gt;\n",
              "&lt;/html&gt;\" style=\"position:absolute;width:100%;height:100%;left:0;top:0;border:none !important;\" allowfullscreen webkitallowfullscreen mozallowfullscreen></iframe></div></div>"
            ]
          },
          "metadata": {},
          "execution_count": 13
        }
      ],
      "source": [
        "# # Load a landsat image and select three bands.\n",
        "# landsat = ee.Image('LANDSAT/LC08/C01/T1_TOA/LC08_123032_20140515')\\\n",
        "#             .select(['B4', 'B3', 'B2'])\n",
        "# Create a geometry representing an export region.\n",
        "geometry = ee.Geometry.Rectangle([116.2621, 39.8412, 116.4849, 40.01236])\n",
        "center = geometry.centroid().getInfo()['coordinates']\n",
        "center.reverse()\n",
        "# occ_limit=500\n",
        "Mapdisplay(center,{'data':RemoveDuplicates(ee.FeatureCollection('projects/earthengine-legacy/assets/users/hywong/occ_doe/Cedrus')).randomColumn().sort('random').limit(ee.Number(occ_limit))\n",
        ".getInfo()},zoom_start=2)\n",
        "# Mapdisplay(center,{'AOI':AOI.getInfo()},zoom_start=7)"
      ]
    }
  ],
  "metadata": {
    "colab": {
      "provenance": [],
      "authorship_tag": "ABX9TyPM7IZuBvcY/Hih8yDlvwad",
      "include_colab_link": true
    },
    "kernelspec": {
      "display_name": "Python 3",
      "name": "python3"
    },
    "language_info": {
      "name": "python"
    }
  },
  "nbformat": 4,
  "nbformat_minor": 0
}